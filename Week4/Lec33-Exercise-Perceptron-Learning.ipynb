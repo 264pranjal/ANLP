{
 "cells": [
  {
   "cell_type": "markdown",
   "metadata": {},
   "source": [
    "# Exercise 3\n",
    "\n",
    "- Lets suppose\n",
    "  - Target output is\n",
    "    - $y = 1$\n",
    "  - The Estimated output is\n",
    "    - $\\hat{y} = -1$\n",
    "- How will you update $w$?\n",
    "- What kind of adjustment you will make to $w$ so that $\\hat{y}$ becomes closer to $y$?\n",
    "\n",
    "- Refer some books and figure out what could the adjsutments that we can make?\n",
    "  - Hint: $w^{k+1} \\propto (y - \\hat{y})$"
   ]
  },
  {
   "cell_type": "markdown",
   "metadata": {},
   "source": [
    "# Exercise 4"
   ]
  },
  {
   "cell_type": "markdown",
   "metadata": {},
   "source": [
    "- Same of Exercise 3, but\n",
    "  - $y = -1$\n",
    "  - $\\hat{y} = 1$\n",
    "- In which way you would adjust the weights?\n",
    "  - Either you will increase the weight or you will decrease the weight?"
   ]
  },
  {
   "cell_type": "markdown",
   "metadata": {},
   "source": [
    "# Exercise 5"
   ]
  },
  {
   "cell_type": "markdown",
   "metadata": {},
   "source": [
    "- From Algorithm for Perceptron Learning\n",
    "  - To provide a stable weight update for this step, $w_j(t + 1) = w_j - \\eta(y-\\hat{y})x_j$, we require a small $\\eta$. This results in slow learning. Bigger $\\eta$ would be good for fast learning.\n",
    "    - What are the problems?\n",
    "    - What is the compromise?"
   ]
  },
  {
   "cell_type": "code",
   "execution_count": null,
   "metadata": {},
   "outputs": [],
   "source": []
  }
 ],
 "metadata": {
  "kernelspec": {
   "display_name": "Python 3",
   "language": "python",
   "name": "python3"
  },
  "language_info": {
   "codemirror_mode": {
    "name": "ipython",
    "version": 3
   },
   "file_extension": ".py",
   "mimetype": "text/x-python",
   "name": "python",
   "nbconvert_exporter": "python",
   "pygments_lexer": "ipython3",
   "version": "3.6.9"
  }
 },
 "nbformat": 4,
 "nbformat_minor": 2
}
