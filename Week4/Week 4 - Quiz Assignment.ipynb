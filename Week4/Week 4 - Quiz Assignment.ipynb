{
 "cells": [
  {
   "cell_type": "markdown",
   "metadata": {},
   "source": [
    "# Week 4 - Quiz Assignment"
   ]
  },
  {
   "cell_type": "markdown",
   "metadata": {},
   "source": [
    "1) Which one of the following is linearly inseparable?\n",
    "\n",
    "- NAND\n",
    "- NOR\n",
    "- Compliment of XOR\n",
    "- None of the above"
   ]
  },
  {
   "cell_type": "markdown",
   "metadata": {},
   "source": [
    "__Answer__: Compliment of XOR\n",
    "\n",
    "![Q1_Ans](images/Q1_Ans.jpg)"
   ]
  },
  {
   "cell_type": "markdown",
   "metadata": {},
   "source": [
    "***"
   ]
  },
  {
   "cell_type": "markdown",
   "metadata": {},
   "source": [
    "2) Perceptron's activation value is computed using\n",
    "\n",
    "- $w x_i + b$\n",
    "- $\\sum_i w x_i + b$\n",
    "- $\\sum_i x_i + b$\n",
    "- None of the above"
   ]
  },
  {
   "cell_type": "markdown",
   "metadata": {},
   "source": [
    "__Answer__: None of the above"
   ]
  },
  {
   "cell_type": "markdown",
   "metadata": {},
   "source": [
    "***"
   ]
  },
  {
   "cell_type": "markdown",
   "metadata": {},
   "source": [
    "3) Using the input, target, and initial weights for the Perceptron (not trained yet) as given in the table and the diagram, compute the absolute value of the error for each input set of values. Note: if $h \\geq 0$, $y = 1$, else $y = 0$\n",
    "\n",
    "![A4-Q3-1](images/A4-Q3-1.jpg) ![A4-Q3](images/A4-Q3.jpg)\n",
    "\n",
    "- $[\\text{1 0 1}]^T$\n",
    "- $[\\text{1 1 1}]^T$\n",
    "- $[\\text{0 0 1}]^T$\n",
    "- $[\\text{0 0 0}]^T$"
   ]
  },
  {
   "cell_type": "markdown",
   "metadata": {},
   "source": [
    "__Answer__: $[\\text{1 1 1}]^T$\n",
    "\n",
    "| $x_1$ | $x_2$  | $w_0$ | $w_1$ | $w_2$ | target | $\\sum w_i x_i + w_0$ | $\\hat{y}$ | abs(error) |\n",
    "| ----- | ------ | ----- | ----- | ----- | ------ | -------------------- | --------- | ---------- |\n",
    "| 1     | 2      | -1    | 2     | 3     | 0      | 2.1+3.2+(-1) = 7     | 1         | 1          |\n",
    "| 2     | 3      | -1    | 2     | 3     | 0      | 2.2+3.3+(-1) = 9     | 1         | 1          |\n",
    "| 0     | -1     | -1    | 2     | 3     | 1      | 2.0+3.(-1)+(-1) = -4 | 0         | 1          |"
   ]
  },
  {
   "cell_type": "markdown",
   "metadata": {},
   "source": [
    "***"
   ]
  },
  {
   "cell_type": "markdown",
   "metadata": {},
   "source": [
    "4) A sigmoid function squashes the values in the range $[0$ $1]$\n",
    "- True\n",
    "- False"
   ]
  },
  {
   "cell_type": "markdown",
   "metadata": {},
   "source": [
    "__Answer__: True"
   ]
  },
  {
   "cell_type": "markdown",
   "metadata": {},
   "source": [
    "***"
   ]
  },
  {
   "cell_type": "markdown",
   "metadata": {},
   "source": [
    "5) Perceptron classifies data with more than 2 classes\n",
    "- True\n",
    "- False"
   ]
  },
  {
   "cell_type": "markdown",
   "metadata": {},
   "source": [
    "__Answer__: False"
   ]
  },
  {
   "cell_type": "markdown",
   "metadata": {},
   "source": [
    "***"
   ]
  },
  {
   "cell_type": "markdown",
   "metadata": {},
   "source": [
    "6) In a backpropagation network, the error became very small within two epochs. What would you check/correct?\n",
    "- Change the learning parameter and start the training process again\n",
    "- Use another known input (not used during the epoch) to find out if $y - \\hat{y}$ is small\n",
    "- Select some random input set used for training to find out whether the network has learned\n",
    "- Check the initial values of the weights\n",
    "- All of the above"
   ]
  },
  {
   "cell_type": "markdown",
   "metadata": {},
   "source": [
    "__Answer__: All of the above"
   ]
  },
  {
   "cell_type": "markdown",
   "metadata": {},
   "source": [
    "***"
   ]
  },
  {
   "cell_type": "markdown",
   "metadata": {},
   "source": [
    "7) If you are asked to identify the car reviews as positive or negative from a corpus of 1GB text, what are the tasks (includes building the neural network architecture) that you would plan to perform?\n",
    "\n",
    "a) Understand the domain related keywords that describe sentiments\n",
    "\n",
    "b) Preprocess to extract all words\n",
    "\n",
    "c) Create a dictionary of positive and negative words\n",
    "\n",
    "d) Construct one-host vector for each sentiment word\n",
    "\n",
    "e) Construct a target table (0 for negative sentiment and 1 for positive sentiment)\n",
    "\n",
    "f) Corresponding to each sentiment words\n",
    "\n",
    "g) Include two neurons at the output layer\n",
    "\n",
    "h) Include two neurons at the hidden layer\n",
    "\n",
    "- a, b, c, d, e, f, g - All tasks\n",
    "- a, b, c, d, e\n",
    "- b, c, d, e, f, g\n",
    "- b, c, d, e\n",
    "- None of the above"
   ]
  },
  {
   "cell_type": "markdown",
   "metadata": {},
   "source": [
    "__Answer__: a, b, c, d, e\n",
    "\n",
    "- Question is ambiguous, so it is not evaluated in grading"
   ]
  },
  {
   "cell_type": "markdown",
   "metadata": {},
   "source": [
    "***"
   ]
  },
  {
   "cell_type": "markdown",
   "metadata": {},
   "source": [
    "8) An ANN is designed to recognize the sentiment of a sentence as positive of negative. if One-Hot-Vector $X$ is used as input, then the size input layer is $X \\geq \\lvert V_s + 2 \\rvert\\$, where $V_s$ represents the vocabulary of sentiment words\n",
    "- True\n",
    "- False"
   ]
  },
  {
   "cell_type": "markdown",
   "metadata": {},
   "source": [
    "__Answer__: False"
   ]
  },
  {
   "cell_type": "markdown",
   "metadata": {},
   "source": [
    "***"
   ]
  },
  {
   "cell_type": "markdown",
   "metadata": {},
   "source": [
    "9) Assume that the size f vocabulary of a corpus is $|V| = 10000$ . You are asked to design an ANN-based multi class classifier. Which one of the activationfunctions would you use at the output layer?\n",
    "- Sigmoid\n",
    "- Tanh\n",
    "- Softmax\n",
    "- Hyperbolic Tangent Function"
   ]
  },
  {
   "cell_type": "markdown",
   "metadata": {},
   "source": [
    "__Answer__: Softmax"
   ]
  },
  {
   "cell_type": "markdown",
   "metadata": {},
   "source": [
    "***"
   ]
  },
  {
   "cell_type": "code",
   "execution_count": null,
   "metadata": {},
   "outputs": [],
   "source": []
  }
 ],
 "metadata": {
  "kernelspec": {
   "display_name": "Python 3",
   "language": "python",
   "name": "python3"
  },
  "language_info": {
   "codemirror_mode": {
    "name": "ipython",
    "version": 3
   },
   "file_extension": ".py",
   "mimetype": "text/x-python",
   "name": "python",
   "nbconvert_exporter": "python",
   "pygments_lexer": "ipython3",
   "version": "3.6.9"
  }
 },
 "nbformat": 4,
 "nbformat_minor": 4
}
