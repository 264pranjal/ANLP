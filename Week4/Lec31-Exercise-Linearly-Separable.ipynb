{
 "cells": [
  {
   "cell_type": "markdown",
   "metadata": {},
   "source": [
    "# Exercise 1 - Is it lineary separable?"
   ]
  },
  {
   "cell_type": "markdown",
   "metadata": {},
   "source": [
    "- In below _image 1_, points are separated by a _curve_ and _not by a straight line_\n",
    "- Find out whether it is possible to __*piece wise linear separability\n",
    "    - Split the space into piece wise linear regions\n",
    "    - Take each region and try to fit a line\n",
    "- Is it possible?\n",
    "\n",
    "Image 1             |  Image 2\n",
    ":-------------------------:|:-------------------------:\n",
    "![Exercise_Linearly_Separable_1](images/Exercise_Linearly_Separable_1.jpg)  |  ![Exercise_Linearly_Separable_2](images/Exercise_Linearly_Separable_2.jpg)"
   ]
  },
  {
   "cell_type": "markdown",
   "metadata": {},
   "source": [
    "# Exercise 2 - is XOR lineary separable?"
   ]
  },
  {
   "cell_type": "code",
   "execution_count": null,
   "metadata": {},
   "outputs": [],
   "source": []
  }
 ],
 "metadata": {
  "kernelspec": {
   "display_name": "Python 3",
   "language": "python",
   "name": "python3"
  },
  "language_info": {
   "codemirror_mode": {
    "name": "ipython",
    "version": 3
   },
   "file_extension": ".py",
   "mimetype": "text/x-python",
   "name": "python",
   "nbconvert_exporter": "python",
   "pygments_lexer": "ipython3",
   "version": "3.6.9"
  }
 },
 "nbformat": 4,
 "nbformat_minor": 2
}
