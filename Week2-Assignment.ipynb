{
 "cells": [
  {
   "cell_type": "markdown",
   "metadata": {},
   "source": [
    "# Exercise 1\n",
    "Implement the LSI using SVD. Use the the documents given below as\n",
    "samples.\n",
    "\n",
    "__Note__: Use Numpy's linalg package to understand the internals of SVD\n",
    "1. information extraction systems\n",
    "2. natural language processing\n",
    "3. speech signal systems\n",
    "4. speech processing\n",
    "\n",
    "Use \"speech systems\" as the query to find out whether the results match\n",
    "the answer for Question 5 (Assignment 2)."
   ]
  },
  {
   "cell_type": "code",
   "execution_count": 1,
   "metadata": {},
   "outputs": [],
   "source": [
    "from gensim import corpora, similarities\n",
    "from gensim import models"
   ]
  },
  {
   "cell_type": "code",
   "execution_count": 2,
   "metadata": {},
   "outputs": [],
   "source": [
    "# Read (construct) the Corpus\n",
    "corpus = [\n",
    "    \"information extraction systems\",\n",
    "    \"natural language processing\",\n",
    "    \"speech signal systems\",\n",
    "    \"speech processing\"\n",
    "]"
   ]
  },
  {
   "cell_type": "code",
   "execution_count": 3,
   "metadata": {},
   "outputs": [
    {
     "data": {
      "text/plain": [
       "[['information', 'extraction', 'systems'],\n",
       " ['natural', 'language', 'processing'],\n",
       " ['speech', 'signal', 'systems'],\n",
       " ['speech', 'processing']]"
      ]
     },
     "execution_count": 3,
     "metadata": {},
     "output_type": "execute_result"
    }
   ],
   "source": [
    "# Tokenize\n",
    "corpus_text = [doc.split() for doc in corpus]\n",
    "corpus_text"
   ]
  },
  {
   "cell_type": "code",
   "execution_count": 4,
   "metadata": {},
   "outputs": [],
   "source": [
    "# Reference: https://radimrehurek.com/gensim/tut2.html\n",
    "# Create Coprus Dictionary\n",
    "dictionary = corpora.Dictionary(corpus_text)"
   ]
  },
  {
   "cell_type": "code",
   "execution_count": 5,
   "metadata": {},
   "outputs": [],
   "source": [
    "# Create Document-Term Matrix (Bag-of-Words)\n",
    "doc_term_matrix = [dictionary.doc2bow(tokens) for tokens in corpus_text]"
   ]
  },
  {
   "cell_type": "code",
   "execution_count": 6,
   "metadata": {},
   "outputs": [
    {
     "data": {
      "text/plain": [
       "[[(0, 1), (1, 1), (2, 1)],\n",
       " [(3, 1), (4, 1), (5, 1)],\n",
       " [(2, 1), (6, 1), (7, 1)],\n",
       " [(5, 1), (7, 1)]]"
      ]
     },
     "execution_count": 6,
     "metadata": {},
     "output_type": "execute_result"
    }
   ],
   "source": [
    "doc_term_matrix"
   ]
  },
  {
   "cell_type": "code",
   "execution_count": 7,
   "metadata": {},
   "outputs": [],
   "source": [
    "# Create TF-IDF Matrix - by fit(ting) the model\n",
    "tfidf = models.TfidfModel(doc_term_matrix)"
   ]
  },
  {
   "cell_type": "code",
   "execution_count": 8,
   "metadata": {},
   "outputs": [],
   "source": [
    "# Transform (Apply) the model\n",
    "corpus_tfidf = tfidf[doc_term_matrix]"
   ]
  },
  {
   "cell_type": "code",
   "execution_count": 9,
   "metadata": {},
   "outputs": [],
   "source": [
    "# Create LSI Transformation\n",
    "lsi = models.LsiModel(corpus_tfidf, id2word=dictionary)"
   ]
  },
  {
   "cell_type": "code",
   "execution_count": 10,
   "metadata": {},
   "outputs": [
    {
     "data": {
      "text/plain": [
       "[(0,\n",
       "  '0.606*\"speech\" + 0.523*\"processing\" + 0.398*\"signal\" + 0.256*\"systems\" + 0.233*\"natural\" + 0.233*\"language\" + 0.114*\"extraction\" + 0.114*\"information\"'),\n",
       " (1,\n",
       "  '-0.434*\"extraction\" + -0.434*\"information\" + -0.379*\"systems\" + 0.368*\"natural\" + 0.368*\"language\" + -0.323*\"signal\" + 0.321*\"processing\" + -0.025*\"speech\"'),\n",
       " (2,\n",
       "  '0.472*\"information\" + 0.472*\"extraction\" + 0.400*\"natural\" + 0.400*\"language\" + -0.351*\"signal\" + -0.324*\"speech\" + 0.060*\"systems\" + 0.051*\"processing\"'),\n",
       " (3,\n",
       "  '0.600*\"signal\" + -0.437*\"processing\" + 0.351*\"language\" + 0.351*\"natural\" + -0.313*\"speech\" + 0.214*\"systems\" + -0.172*\"extraction\" + -0.172*\"information\"')]"
      ]
     },
     "execution_count": 10,
     "metadata": {},
     "output_type": "execute_result"
    }
   ],
   "source": [
    "lsi.print_topics()"
   ]
  },
  {
   "cell_type": "code",
   "execution_count": 11,
   "metadata": {},
   "outputs": [
    {
     "data": {
      "text/plain": [
       "[(0,\n",
       "  '0.606*\"speech\" + 0.523*\"processing\" + 0.398*\"signal\" + 0.256*\"systems\" + 0.233*\"natural\" + 0.233*\"language\" + 0.114*\"extraction\" + 0.114*\"information\"'),\n",
       " (1,\n",
       "  '-0.434*\"extraction\" + -0.434*\"information\" + -0.379*\"systems\" + 0.368*\"natural\" + 0.368*\"language\" + -0.323*\"signal\" + 0.321*\"processing\" + -0.025*\"speech\"'),\n",
       " (2,\n",
       "  '0.472*\"information\" + 0.472*\"extraction\" + 0.400*\"natural\" + 0.400*\"language\" + -0.351*\"signal\" + -0.324*\"speech\" + 0.060*\"systems\" + 0.051*\"processing\"'),\n",
       " (3,\n",
       "  '0.600*\"signal\" + -0.437*\"processing\" + 0.351*\"language\" + 0.351*\"natural\" + -0.313*\"speech\" + 0.214*\"systems\" + -0.172*\"extraction\" + -0.172*\"information\"')]"
      ]
     },
     "execution_count": 11,
     "metadata": {},
     "output_type": "execute_result"
    }
   ],
   "source": [
    "lsi.show_topics()"
   ]
  },
  {
   "cell_type": "code",
   "execution_count": 12,
   "metadata": {},
   "outputs": [],
   "source": [
    "# Create Query Document\n",
    "query_doc = \"speech systems\"\n",
    "query_vec_bow = dictionary.doc2bow(query_doc.split())"
   ]
  },
  {
   "cell_type": "code",
   "execution_count": 13,
   "metadata": {},
   "outputs": [
    {
     "data": {
      "text/plain": [
       "[(0, 0.8622500379254158),\n",
       " (1, -0.403157689387837),\n",
       " (2, -0.2639245139336679),\n",
       " (3, -0.09848073003635022)]"
      ]
     },
     "execution_count": 13,
     "metadata": {},
     "output_type": "execute_result"
    }
   ],
   "source": [
    "# convert the query to LSI space\n",
    "query_vec_lsi = lsi[query_vec_bow]\n",
    "query_vec_lsi"
   ]
  },
  {
   "cell_type": "code",
   "execution_count": 14,
   "metadata": {},
   "outputs": [],
   "source": [
    "# transform corpus to LSI space and index it\n",
    "# Reference: https://radimrehurek.com/gensim/tut3.html\n",
    "index = similarities.MatrixSimilarity(lsi[corpus_tfidf])"
   ]
  },
  {
   "cell_type": "code",
   "execution_count": 15,
   "metadata": {},
   "outputs": [],
   "source": [
    "# Obtain similarity against all the documents in the corpus\n",
    "sims = index[query_vec_lsi]"
   ]
  },
  {
   "cell_type": "code",
   "execution_count": 16,
   "metadata": {},
   "outputs": [
    {
     "name": "stdout",
     "output_type": "stream",
     "text": [
      "[(0, 0.33579946), (1, 0.0), (2, 0.82253736), (3, 0.7123382)]\n"
     ]
    }
   ],
   "source": [
    "print(list(enumerate(sims)))"
   ]
  },
  {
   "cell_type": "markdown",
   "metadata": {},
   "source": [
    "# Exercise 2\n",
    "\n",
    "Try to improve the incomplete code (shown during the demo 2)(Topic\n",
    "modeling using BBC corpus) from the github\n",
    "\n",
    "<https://github.com/Ramaseshanr/anlp/blob/master/TopicModeling_LSI.ipynb>\n",
    "\n",
    "Once completed, post your experience in the discussion forum for the benefit of others"
   ]
  },
  {
   "cell_type": "code",
   "execution_count": 17,
   "metadata": {},
   "outputs": [
    {
     "name": "stderr",
     "output_type": "stream",
     "text": [
      "[nltk_data] Downloading package wordnet to /home/ubuntujs/nltk_data...\n",
      "[nltk_data]   Package wordnet is already up-to-date!\n"
     ]
    }
   ],
   "source": [
    "import os\n",
    "import pathlib\n",
    "import gensim\n",
    "from gensim.models import LsiModel\n",
    "from gensim import models\n",
    "from gensim import corpora\n",
    "from gensim.utils import lemmatize\n",
    "import nltk\n",
    "from nltk.stem import PorterStemmer\n",
    "from nltk.corpus import stopwords\n",
    "from nltk.stem.snowball import EnglishStemmer # Yuva\n",
    "from nltk.stem import WordNetLemmatizer # Yuva\n",
    "from gensim.parsing.preprocessing import remove_stopwords, stem_text\n",
    "from gensim.parsing.preprocessing import strip_numeric, strip_short,strip_multiple_whitespaces,strip_non_alphanum,strip_punctuation,strip_tags,preprocess_string\n",
    "import pandas as pd\n",
    "from gensim import similarities\n",
    "from nltk.tokenize import RegexpTokenizer\n",
    "from nltk.corpus import stopwords\n",
    "from nltk.stem.porter import PorterStemmer\n",
    "from gensim.models.coherencemodel import CoherenceModel\n",
    "import matplotlib.pyplot as plt\n",
    "from pprint import pprint"
   ]
  },
  {
   "cell_type": "code",
   "execution_count": 18,
   "metadata": {},
   "outputs": [],
   "source": [
    "#read the data\n",
    "corpus_file_name = pathlib.Path(\"bbc-text.csv\")\n",
    "\n",
    "if corpus_file_name.exists():\n",
    "    corpus_dir = corpus_file_name\n",
    "else:\n",
    "    corpus_dir = 'https://raw.githubusercontent.com/Ramaseshanr/anlp/master/corpus/bbc-text.csv'\n",
    "    \n",
    "df_corpus = pd.read_csv(corpus_dir,names=['category', 'text'])\n",
    "\n",
    "if not corpus_file_name.exists():\n",
    "    df_corpus.to_csv(corpus_file_name,index=False,header=False)"
   ]
  },
  {
   "cell_type": "code",
   "execution_count": 19,
   "metadata": {},
   "outputs": [],
   "source": [
    "corpus = df_corpus['text'].values.tolist()\n",
    "corpus = corpus[1:]"
   ]
  },
  {
   "cell_type": "code",
   "execution_count": 20,
   "metadata": {},
   "outputs": [],
   "source": [
    "my_filter = [\n",
    "    lambda x: x.lower(), strip_tags, strip_punctuation,\n",
    "    strip_multiple_whitespaces, strip_numeric,\n",
    "    remove_stopwords, strip_short, stem_text\n",
    "]\n",
    "\n",
    "def preprocessing(corpus):\n",
    "    stemmer = EnglishStemmer()\n",
    "    lemmatizer = WordNetLemmatizer()\n",
    "    stop_words = stopwords.words('english')\n",
    "    for document in corpus:\n",
    "        doc = strip_numeric(document)\n",
    "        doc = strip_multiple_whitespaces(doc)\n",
    "        doc = remove_stopwords(doc)\n",
    "        strip_tags(doc)\n",
    "        doc = strip_short(doc,3)\n",
    "        #doc = stem_text(doc)\n",
    "        doc = strip_punctuation(doc)\n",
    "        tokens = gensim.utils.tokenize(doc, lower=True)\n",
    "        tokens = [token for token in tokens if token not in stop_words ]\n",
    "        #tokens = [stemmer.stem(token) for token in tokens]\n",
    "        tokens = [lemmatizer.lemmatize(token) for token in tokens]\n",
    "        yield tokens\n",
    "        #yield gensim.utils.tokenize(doc, lower=True)\n",
    "\n",
    "def preprocessing2(corpus):\n",
    "    for document in corpus:\n",
    "        doc = strip_numeric(document)\n",
    "        doc = strip_multiple_whitespaces(doc)\n",
    "        doc = remove_stopwords(doc)\n",
    "        strip_tags(doc)\n",
    "        doc = strip_short(doc,3)\n",
    "        #doc = stem_text(doc)\n",
    "        doc = strip_punctuation(doc)\n",
    "        yield gensim.utils.tokenize(doc, lower=True)\n",
    "\n",
    "#texts = preprocessing(corpus)\n",
    "#for text in texts:\n",
    "#    print(list(text))\n",
    "\n",
    "texts = preprocessing(corpus)\n",
    "dictionary = corpora.Dictionary(texts)"
   ]
  },
  {
   "cell_type": "code",
   "execution_count": 21,
   "metadata": {},
   "outputs": [
    {
     "name": "stderr",
     "output_type": "stream",
     "text": [
      "/home/ubuntujs/anaconda3/envs/ANLP/lib/python3.7/site-packages/smart_open/smart_open_lib.py:398: UserWarning: This function is deprecated, use smart_open.open instead. See the migration notes for details: https://github.com/RaRe-Technologies/smart_open/blob/master/README.rst#migrating-to-the-new-open-function\n",
      "  'See the migration notes for details: %s' % _MIGRATION_NOTES_URL\n"
     ]
    }
   ],
   "source": [
    "dictionary.save_as_text(\"corpus_dict.txt\")"
   ]
  },
  {
   "cell_type": "code",
   "execution_count": 22,
   "metadata": {},
   "outputs": [
    {
     "name": "stdout",
     "output_type": "stream",
     "text": [
      "Corpus Vocab Size:  24616 , Corpus Dictionary Size:  24616\n"
     ]
    }
   ],
   "source": [
    "corpus_vocab = dictionary.itervalues()\n",
    "print(\"Corpus Vocab Size: \", len(corpus_vocab), \", Corpus Dictionary Size: \", len(dictionary.token2id))\n",
    "\n",
    "with open('corpus_vocab.txt', 'w') as f:\n",
    "    v = sorted(corpus_vocab, key=len)\n",
    "    for w in v:\n",
    "        f.write(w + '\\n')"
   ]
  },
  {
   "cell_type": "code",
   "execution_count": 23,
   "metadata": {},
   "outputs": [
    {
     "name": "stdout",
     "output_type": "stream",
     "text": [
      "After filtering:  12000\n"
     ]
    }
   ],
   "source": [
    "dictionary.filter_extremes(no_below=1, keep_n=12000)\n",
    "print('After filtering: ', len(dictionary.itervalues()))\n",
    "dictionary.save_as_text(\"corpus_dict2.txt\")"
   ]
  },
  {
   "cell_type": "code",
   "execution_count": 24,
   "metadata": {},
   "outputs": [],
   "source": [
    "doc_term_matrix = [dictionary.doc2bow(tokens) for tokens in preprocessing(corpus)]\n",
    "tfidf = models.TfidfModel(doc_term_matrix)\n",
    "corpus_tfidf = tfidf[doc_term_matrix]"
   ]
  },
  {
   "cell_type": "code",
   "execution_count": 25,
   "metadata": {},
   "outputs": [],
   "source": [
    "lsi = models.LsiModel(corpus_tfidf, id2word=dictionary)  # initialize an LSI transformation"
   ]
  },
  {
   "cell_type": "code",
   "execution_count": 26,
   "metadata": {},
   "outputs": [
    {
     "data": {
      "text/plain": [
       "200"
      ]
     },
     "execution_count": 26,
     "metadata": {},
     "output_type": "execute_result"
    }
   ],
   "source": [
    "lsi.projection.k"
   ]
  },
  {
   "cell_type": "code",
   "execution_count": 27,
   "metadata": {},
   "outputs": [
    {
     "data": {
      "text/plain": [
       "array([6.84438287, 4.7294355 , 4.37989994, 4.12825674, 4.03692568,\n",
       "       3.47304033, 3.31738583, 3.1670767 , 3.13151107, 3.0595175 ,\n",
       "       3.03531024, 2.99951209, 2.91873282, 2.86114222, 2.85054328,\n",
       "       2.76950663, 2.68477085, 2.6449747 , 2.63223183, 2.61855186,\n",
       "       2.58984396, 2.53109146, 2.51503901, 2.50642451, 2.49274855,\n",
       "       2.46360968, 2.41743899, 2.38427969, 2.36736184, 2.35643889,\n",
       "       2.35142666, 2.32585842, 2.31145166, 2.29339314, 2.27518011,\n",
       "       2.26760211, 2.25906912, 2.24144481, 2.23393806, 2.21989762,\n",
       "       2.20978342, 2.19496154, 2.14855006, 2.13594448, 2.13056783,\n",
       "       2.12247875, 2.10679178, 2.09845711, 2.09480561, 2.08223954,\n",
       "       2.07409489, 2.06831034, 2.05892253, 2.05592352, 2.03213908,\n",
       "       2.02945454, 2.01468859, 2.00805544, 2.00178233, 1.99407337,\n",
       "       1.98659703, 1.98004498, 1.97729875, 1.95860258, 1.95516093,\n",
       "       1.94318695, 1.93510996, 1.93159055, 1.92364755, 1.91805095,\n",
       "       1.90929183, 1.90020473, 1.89376974, 1.8870275 , 1.87990344,\n",
       "       1.87089251, 1.86107832, 1.85677738, 1.85126872, 1.84860272,\n",
       "       1.83871036, 1.82864983, 1.82540271, 1.82046226, 1.81561775,\n",
       "       1.8085386 , 1.80106762, 1.78652388, 1.78529273, 1.78137722,\n",
       "       1.77525474, 1.7691064 , 1.7620724 , 1.75683673, 1.75346191,\n",
       "       1.74884253, 1.74121423, 1.73767449, 1.73547652, 1.73086019,\n",
       "       1.72643463, 1.7244472 , 1.71021397, 1.70885815, 1.70334454,\n",
       "       1.69818142, 1.69433245, 1.68835223, 1.68282587, 1.67941809,\n",
       "       1.67762439, 1.67031443, 1.66749224, 1.66208474, 1.65781287,\n",
       "       1.65617585, 1.65221861, 1.65069008, 1.64768383, 1.64179463,\n",
       "       1.63257688, 1.62777365, 1.62698141, 1.62563764, 1.61973755,\n",
       "       1.61552879, 1.61198888, 1.60950958, 1.60732943, 1.60530734,\n",
       "       1.59666665, 1.59270754, 1.590643  , 1.58826117, 1.58168435,\n",
       "       1.57577292, 1.57104235, 1.5698814 , 1.56778146, 1.56625057,\n",
       "       1.56100577, 1.5568975 , 1.55269159, 1.55092027, 1.54628483,\n",
       "       1.54425401, 1.54278341, 1.53717509, 1.53497603, 1.53042264,\n",
       "       1.52826919, 1.52562018, 1.52334469, 1.51898974, 1.517156  ,\n",
       "       1.51386551, 1.50960314, 1.50769379, 1.50333123, 1.50124513,\n",
       "       1.49875982, 1.49460439, 1.49286653, 1.48977522, 1.48727477,\n",
       "       1.48199887, 1.4810962 , 1.47864379, 1.47635461, 1.47260766,\n",
       "       1.47137867, 1.46896394, 1.46676287, 1.46212968, 1.45854355,\n",
       "       1.45621672, 1.45346774, 1.44941976, 1.44694952, 1.44494597,\n",
       "       1.44286598, 1.44015794, 1.43936517, 1.43773019, 1.43352431,\n",
       "       1.42975275, 1.4260232 , 1.42461177, 1.42184637, 1.42051607,\n",
       "       1.41833071, 1.41361712, 1.41328866, 1.41093588, 1.4096101 ,\n",
       "       1.40384788, 1.40181603, 1.39953885, 1.39949134, 1.39498969])"
      ]
     },
     "execution_count": 27,
     "metadata": {},
     "output_type": "execute_result"
    }
   ],
   "source": [
    "lsi.projection.s"
   ]
  },
  {
   "cell_type": "code",
   "execution_count": 28,
   "metadata": {},
   "outputs": [
    {
     "name": "stdout",
     "output_type": "stream",
     "text": [
      "[(0,\n",
      "  '-0.121*\"labour\" + -0.117*\"election\" + -0.102*\"blair\" + -0.101*\"film\" + '\n",
      "  '-0.100*\"game\" + -0.099*\"tax\" + -0.098*\"brown\" + -0.093*\"party\" + '\n",
      "  '-0.092*\"government\" + -0.088*\"people\" + -0.086*\"tory\" + -0.084*\"bn\" + '\n",
      "  '-0.082*\"mobile\" + -0.075*\"minister\" + -0.075*\"economy\" + -0.072*\"music\" + '\n",
      "  '-0.072*\"service\" + -0.068*\"phone\" + -0.067*\"new\" + -0.066*\"best\" + '\n",
      "  '-0.065*\"sale\" + -0.064*\"market\" + -0.064*\"howard\" + -0.064*\"growth\" + '\n",
      "  '-0.064*\"rate\"'),\n",
      " (1,\n",
      "  '-0.265*\"labour\" + -0.252*\"election\" + -0.215*\"blair\" + -0.201*\"brown\" + '\n",
      "  '-0.192*\"tax\" + -0.188*\"tory\" + -0.186*\"party\" + 0.176*\"film\" + 0.134*\"game\" '\n",
      "  '+ -0.128*\"chancellor\" + 0.122*\"award\" + -0.121*\"howard\" + 0.117*\"mobile\" + '\n",
      "  '-0.111*\"minister\" + -0.106*\"prime\" + -0.105*\"government\" + 0.099*\"music\" + '\n",
      "  '0.097*\"best\" + 0.088*\"phone\" + -0.085*\"lib\" + -0.085*\"conservative\" + '\n",
      "  '0.081*\"player\" + -0.079*\"kennedy\" + -0.071*\"budget\" + -0.070*\"leader\"'),\n",
      " (2,\n",
      "  '-0.200*\"mobile\" + 0.187*\"film\" + -0.153*\"phone\" + 0.153*\"award\" + '\n",
      "  '0.133*\"best\" + -0.112*\"growth\" + -0.106*\"bn\" + 0.103*\"england\" + '\n",
      "  '-0.099*\"market\" + -0.097*\"firm\" + -0.095*\"rate\" + -0.094*\"technology\" + '\n",
      "  '-0.093*\"economy\" + -0.093*\"consumer\" + 0.090*\"win\" + 0.090*\"oscar\" + '\n",
      "  '-0.087*\"bank\" + -0.085*\"price\" + 0.084*\"labour\" + -0.084*\"service\" + '\n",
      "  '-0.083*\"broadband\" + 0.083*\"blair\" + -0.080*\"company\" + 0.079*\"game\" + '\n",
      "  '-0.078*\"sale\"'),\n",
      " (3,\n",
      "  '0.354*\"film\" + 0.217*\"award\" + -0.169*\"england\" + 0.147*\"oscar\" + '\n",
      "  '0.137*\"best\" + -0.120*\"game\" + 0.113*\"actor\" + -0.108*\"wale\" + '\n",
      "  '-0.106*\"ireland\" + -0.094*\"match\" + -0.093*\"rugby\" + -0.092*\"cup\" + '\n",
      "  '0.089*\"festival\" + 0.088*\"music\" + -0.088*\"robinson\" + -0.088*\"injury\" + '\n",
      "  '0.088*\"actress\" + -0.087*\"team\" + 0.086*\"mobile\" + 0.084*\"nomination\" + '\n",
      "  '-0.082*\"club\" + -0.082*\"coach\" + -0.077*\"france\" + -0.077*\"player\" + '\n",
      "  '0.076*\"aviator\"'),\n",
      " (4,\n",
      "  '-0.242*\"mobile\" + -0.197*\"phone\" + 0.181*\"film\" + 0.153*\"economy\" + '\n",
      "  '0.152*\"bn\" + 0.145*\"growth\" + 0.128*\"bank\" + 0.127*\"rate\" + 0.127*\"dollar\" '\n",
      "  '+ 0.121*\"oil\" + 0.119*\"award\" + -0.109*\"technology\" + 0.107*\"economic\" + '\n",
      "  '0.106*\"yukos\" + 0.106*\"price\" + -0.099*\"game\" + 0.095*\"best\" + '\n",
      "  '-0.090*\"digital\" + 0.090*\"china\" + -0.089*\"user\" + 0.089*\"oscar\" + '\n",
      "  '-0.087*\"music\" + -0.087*\"people\" + 0.085*\"euro\" + -0.080*\"gadget\"')]\n"
     ]
    }
   ],
   "source": [
    "pprint(lsi.print_topics(num_topics=5, num_words=25))"
   ]
  },
  {
   "cell_type": "code",
   "execution_count": null,
   "metadata": {},
   "outputs": [],
   "source": []
  }
 ],
 "metadata": {
  "kernelspec": {
   "display_name": "Python 3",
   "language": "python",
   "name": "python3"
  },
  "language_info": {
   "codemirror_mode": {
    "name": "ipython",
    "version": 3
   },
   "file_extension": ".py",
   "mimetype": "text/x-python",
   "name": "python",
   "nbconvert_exporter": "python",
   "pygments_lexer": "ipython3",
   "version": "3.7.3"
  }
 },
 "nbformat": 4,
 "nbformat_minor": 4
}
