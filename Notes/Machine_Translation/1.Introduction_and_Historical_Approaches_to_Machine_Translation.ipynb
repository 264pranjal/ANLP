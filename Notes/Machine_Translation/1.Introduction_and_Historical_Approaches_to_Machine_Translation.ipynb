{
 "cells": [
  {
   "cell_type": "markdown",
   "metadata": {},
   "source": [
    "# Machine Translation"
   ]
  },
  {
   "cell_type": "markdown",
   "metadata": {},
   "source": [
    "- Understand the sequence of one language and then translate it into another language"
   ]
  },
  {
   "cell_type": "markdown",
   "metadata": {},
   "source": [
    "## Study Links"
   ]
  },
  {
   "cell_type": "markdown",
   "metadata": {},
   "source": [
    "- [A survey of formal grammars and algorithms for recognition and transformation in mechanical translation]\n",
    "  - Page 254-260\n",
    "    - Various Approaches to MT\n",
    "- [Google Cloud Natural Language](https://cloud.google.com/natural-language/)\n",
    "  - Google Natural Language API"
   ]
  },
  {
   "cell_type": "markdown",
   "metadata": {},
   "source": [
    "## Knowledge of NLP covered so far"
   ]
  },
  {
   "cell_type": "markdown",
   "metadata": {},
   "source": [
    "- Trying to understand the meaning of the word without even looking at the dictionary\n",
    "- Trying to generate the senetences and try to figutre-out the probability of that sentence formed using Machine Learning/ Statistical Learning (probability models)"
   ]
  },
  {
   "cell_type": "markdown",
   "metadata": {},
   "source": [
    "## Next Step in NLP"
   ]
  },
  {
   "cell_type": "markdown",
   "metadata": {},
   "source": [
    "- Machine Translation\n",
    "  - Identifying new model where we can feed a text in one language and we want to get the translated version through that model\n",
    "    - This will be interesting and a challenging task"
   ]
  },
  {
   "cell_type": "markdown",
   "metadata": {},
   "source": [
    "## History of Machine Translation"
   ]
  },
  {
   "cell_type": "markdown",
   "metadata": {},
   "source": [
    "- People are trying to do machine translation for over 50+ years\n",
    "  - When they started machine translation, the power of the machines are too small\n",
    "    - It is lesser than the current digital watch that we have today\n",
    "- Eventhough we have capability to do parallel processing over two corpus, understand the words, texts, for machine translation, it is not 100% mature\n",
    "  - We still have errors, and the Machine Trnaslations should evolve to 1100%"
   ]
  },
  {
   "cell_type": "markdown",
   "metadata": {},
   "source": [
    "## Machine Translation session details"
   ]
  },
  {
   "cell_type": "markdown",
   "metadata": {},
   "source": [
    "- In order to understand how people have been doing machine translation over the last 50+ years\n",
    "  - We will first look at the basic element that they had looked at and how they progressed\n",
    "  - Later, we will look at some Statistical Model / Statistical Machine Translation aspect\n",
    "  - And later, we will try to apply Neurol Model into the Machine Translation and see how we can succcessfully translate a sentence in one language to the other langauge"
   ]
  },
  {
   "cell_type": "markdown",
   "metadata": {},
   "source": [
    "1. Statistical Machine Translation\n",
    "  1. Varous Approaches to MT\n",
    "  2. Autoamtic Machine Translation\n",
    "  3. Statistical Machine Translation\n",
    "  4. Definitions\n",
    "  5. Parallel Corpora\n",
    "  6. ArgMax\n",
    "  7. The Noisy Channel Model\n",
    "  8. Bayes Rule\n",
    "  9 The Language Model - recap\n",
    "  10. Trnaslation Model\n",
    "  11. Alighment"
   ]
  },
  {
   "cell_type": "markdown",
   "metadata": {},
   "source": [
    "- In next session, Neural Models for Machine Translation will be covered"
   ]
  },
  {
   "cell_type": "markdown",
   "metadata": {},
   "source": [
    "## Warren Weaver's Note on Trnaslation"
   ]
  },
  {
   "cell_type": "markdown",
   "metadata": {},
   "source": [
    "- Following quote from Watten Weaver, shows, hwo he looked at the translation from Russian to English"
   ]
  },
  {
   "cell_type": "markdown",
   "metadata": {},
   "source": [
    "    When I loot at an article in Russian, I say \"This \n",
    "    is really written in English, but it has been coded \n",
    "    in some strange symbols. I will not proceed to \n",
    "    decode.\" (Warren Weaver, 1947)"
   ]
  },
  {
   "cell_type": "markdown",
   "metadata": {},
   "source": [
    "## Vauquois Diagram - Various Approaches to MT"
   ]
  },
  {
   "cell_type": "markdown",
   "metadata": {},
   "source": [
    "- Below diagram called \"Vanquois Diagram\" discusses various approaches to machine translation in one shot\n",
    "  - Shows various approaches that people have followed in MT\n",
    "- Left Tree shows the Source Language\n",
    "- RIght Tree shows the Target Language"
   ]
  },
  {
   "cell_type": "markdown",
   "metadata": {},
   "source": [
    "![Vauquois_Diagram_Various_Approaches_to_MT](images/Vauquois_Diagram_Various_Approaches_to_MT.jpg)"
   ]
  },
  {
   "cell_type": "markdown",
   "metadata": {},
   "source": [
    "- Assume we are translating a sentence from French to English"
   ]
  },
  {
   "cell_type": "markdown",
   "metadata": {},
   "source": [
    "### Word2Word or Literal Translation"
   ]
  },
  {
   "cell_type": "markdown",
   "metadata": {},
   "source": [
    "- __Steps__\n",
    "  - Every word from the source language is converted into the target language, one word at a time with out considering the whole sentence as context\n",
    "    - When we do not know the Source language\n",
    "      - We take the dictionary (say French to English Dictionary)\n",
    "      - Look at the source language sentence\n",
    "      - Take one word at a time\n",
    "      - Find out the actual meaning of that word in Englihs and then write that word\n",
    "    - Once we converted all the words in source language to target language, we will have a __*Bag of Words*__\n",
    "      - _Bag of Words_ because the structure of source language could be very different from target langauge\n",
    "    - We will be rearranging the words to make a sensible sentence in target language\n",
    "- __Validation__\n",
    "  - In order to validate the translated sentence, we need to take help of 'Profressional Translating persons' to check our translation\n",
    "    - We may get feedback that this word should not be translated in this fashion\n",
    "      - Example: Polysemy words: the word 'bank' translation depends on the context.\n",
    "    - So, just translating using dictionary without context won't give proper translation\n",
    "- __Limitation/ Issue__\n",
    "  - Without context information, we cannot translate a word in source language to the target language\n",
    "    - So it is not possible to use this method for translating form source to target language in this fashion without knowing the syntax structure of the language"
   ]
  },
  {
   "cell_type": "markdown",
   "metadata": {},
   "source": [
    "### Syntactic Translation"
   ]
  },
  {
   "cell_type": "markdown",
   "metadata": {},
   "source": [
    "- __Steps__\n",
    "  1. The source sentece is parsed to create a syntax tree\n",
    "    - Example [Syntax Tree](http://mshang.ca/syntree/) for the sentence 'This is a wug'\n",
    "      - ![MT_Syntax_Tree_Example](images/MT_Syntax_Tree_Example.png)\n",
    "    - See syntax tree generated using Google Natural Language API Demo - <https://cloud.google.com/natural-language/>\n",
    "      - ![Google_Natural_Language_API_Syntax_Tree](images/Google_Natural_Language_API_Syntax_Tree.jpg)\n",
    "  2. The nodes of the source tree is mapped to the nodes the similar syntax tree created for the target language\n",
    "\n",
    "      $(subject)_s \\rightarrow (subject)_t$\n",
    "\n",
    "      $(noun)_s \\rightarrow (noun)_t$\n",
    "\n",
    "      $(det)_s \\rightarrow (det)_t$\n",
    "\n",
    "      $(adj)_s \\rightarrow (adj)_t$\n",
    "\n",
    "  3. Generate the sentence in the target language sentece from the parse tree\n",
    "- __Limitation/ Issue__\n",
    "  - Assumes that the target language also has similar syntax structure\n",
    "  - Sometimes words are swapped in target language when we compare with source language\n",
    "    - Because, every language is very different in its own\n",
    "    - So, we cannot expect that the words are exactly similar between languages\n",
    "    - Even if we construct a syntax tree and place words according to target language syntax structure, the translation may not be proper - because we do not understand the semantic of that langauge"
   ]
  },
  {
   "cell_type": "markdown",
   "metadata": {},
   "source": [
    "![MT_Syntactic_Translation](images/MT_Syntactic_Translation.jpg)"
   ]
  },
  {
   "cell_type": "markdown",
   "metadata": {},
   "source": [
    "### Semantic Based Translation"
   ]
  },
  {
   "cell_type": "markdown",
   "metadata": {},
   "source": [
    "- The meaning of the source sentence is obtained\n",
    "  - Try to understand the meaning of the sentence\n",
    "  - Based on the meaning of the sentence, try to do the translation\n",
    "- Using the semantics derived from the source sentence, the target sentence is generated"
   ]
  },
  {
   "cell_type": "markdown",
   "metadata": {},
   "source": [
    "### Interlingua Translation"
   ]
  },
  {
   "cell_type": "markdown",
   "metadata": {},
   "source": [
    "- A meta-language format for representing knowledge independent of any language\n",
    "  - Interlingua is something that represents the knowledge of a langugae\n",
    "    - A very ideal model for representing a language\n",
    "  - It is a neutral model, where you can represent a language\n",
    "    - Source language will be translated into Interlingua model, from where it is tranlsated into target langauge\n",
    "      - $\\textit{French} \\rightarrow \\textit{Interlingua}$\n",
    "        - $\\textit{Interlingua} \\rightarrow \\textit{English}$\n",
    "        - $\\textit{Interlingua} \\rightarrow \\textit{German}$\n",
    "        - $\\textit{Interlingua} \\rightarrow \\textit{Spanish}$\n",
    "        - to any language\n",
    "  - Creating a Interlingua is a critical aspect on this type of machine translation\n",
    "    - In scientific research papers, they have represented the Interlingua in terms of _XML_ or _JSON_\n",
    "- Instead of Translation systems for all possible pairs of languages, one representation would be used to generate translations\n",
    "- $O(n^2) \\rightarrow O(n)$\n",
    "- Difficult to design efficient and comprehensive knowledge representation formalisms and due to the large amount of ambiguity\n",
    "  - People are still not very successful in constructing Interlingua so far"
   ]
  },
  {
   "cell_type": "code",
   "execution_count": null,
   "metadata": {},
   "outputs": [],
   "source": []
  }
 ],
 "metadata": {
  "kernelspec": {
   "display_name": "Python 3",
   "language": "python",
   "name": "python3"
  },
  "language_info": {
   "codemirror_mode": {
    "name": "ipython",
    "version": 3
   },
   "file_extension": ".py",
   "mimetype": "text/x-python",
   "name": "python",
   "nbconvert_exporter": "python",
   "pygments_lexer": "ipython3",
   "version": "3.7.5"
  }
 },
 "nbformat": 4,
 "nbformat_minor": 4
}
