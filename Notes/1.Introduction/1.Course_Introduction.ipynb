{
 "cells": [
  {
   "cell_type": "markdown",
   "metadata": {},
   "source": [
    "# Course Introduction"
   ]
  },
  {
   "cell_type": "markdown",
   "metadata": {},
   "source": [
    "## Course Requirements"
   ]
  },
  {
   "cell_type": "markdown",
   "metadata": {},
   "source": [
    "- Computer Science\n",
    "- Probability and Statistics 101\n",
    "- Linear Algebra 101\n",
    "- Machine Learning 101\n",
    "- and lot of Common Sense :-)"
   ]
  },
  {
   "cell_type": "markdown",
   "metadata": {},
   "source": [
    "## GOAL"
   ]
  },
  {
   "cell_type": "markdown",
   "metadata": {},
   "source": [
    "Ability to process and harness information from a large corpus of text with very little manual intervention"
   ]
  },
  {
   "cell_type": "markdown",
   "metadata": {},
   "source": [
    "### NLP is all about Human Intelligence"
   ]
  },
  {
   "cell_type": "markdown",
   "metadata": {},
   "source": [
    "- When we speak to some person on the other end understands what you are speaking, he understands your language and tries to respond\n",
    "  - It is an intellectual way of communicating between two different human\n",
    "- We want to be able to make the machine tdothe same job\n",
    "  - Is it possible for the machine to understand\n",
    "    - what we speak?\n",
    "    - what we write?\n",
    "  - From the large corpus of text\n",
    "    - Will it be able to understand the meaning of every word?\n",
    "    - Will it be able to understand the sentence?\n",
    "    - Will it be able to understand the context in which we are speaking?"
   ]
  },
  {
   "cell_type": "markdown",
   "metadata": {},
   "source": [
    "### Teaching Flow"
   ]
  },
  {
   "cell_type": "markdown",
   "metadata": {},
   "source": [
    "- Why to it?\n",
    "  - Why do we want to do this?\n",
    "- What to it?\n",
    "  - What are we doing to make the machine understand?\n",
    "- How to it?\n",
    "  - For us to make the machine do something we also need to provide how it should proceed in certain fashion"
   ]
  },
  {
   "cell_type": "markdown",
   "metadata": {},
   "source": [
    "## Why is it Hard?"
   ]
  },
  {
   "cell_type": "markdown",
   "metadata": {},
   "source": [
    "- Multiple ways of representation of the same scenario\n",
    "  - We tend to say something in innovative way (in different we we form the sentence and convey)\n",
    "- Includes common sense and contextual representation\n",
    "  - Say we discussed about an accident which happened yesterday. Today, we won't be talking about the entire context of that accident and start talking, we usually start from somewhere\n",
    "- Complex representation information ( simple to hard vocabulary )\n",
    "- Mixing of visual cues\n",
    "  - We use hand symbols to commnunicate few things without really saying in certain words\n",
    "- Ambiguous in nature\n",
    "  - Since languages are created by humnan, their will be some ambiguity in the way you represent in the way you speak, the way you talk, there could be some ambiguity in it\n",
    "  - We manage to understand it, eventhough there is some ambiguity in it\n",
    "- Idioms, metaphors,, sarcasm (Yeah! right), double negatives, etc., makes it difficult for automatic processing\n",
    "  - How do you make the machine to understand if there is a sarcasim in what you are saying?\n",
    "- Human language interpretation depends on real world, common sense, and contextual knowledge\n",
    "  - All the meta information that we have need to fed to the machine for in order to take the job"
   ]
  },
  {
   "cell_type": "markdown",
   "metadata": {},
   "source": [
    "## Typical NLP Tasks"
   ]
  },
  {
   "cell_type": "markdown",
   "metadata": {},
   "source": [
    "|   NLP Task             | Description                                                                                           |\n",
    "|------------------------|-------------------------------------------------------------------------------------------------------|\n",
    "| Information Retrieval  | Find the documents based on keywords                                                                  |\n",
    "| Information Extraction | Identify and extract personal name, date, company name, city,...                                      |\n",
    "| Language generation    | Description based on a photograph Title for a photograph                                              |\n",
    "| Text clustering        | Automatic grouping of documents                                                                       |\n",
    "| Text classification    | Assigning predefined categorization to documents. Identify Spam emails and move them to a Spam folder |\n",
    "| Machine Translation    | Translate any language Text to another                                                                |\n",
    "| Grammar checkers       | Check the grammar for any language                                                                    |"
   ]
  },
  {
   "cell_type": "code",
   "execution_count": null,
   "metadata": {},
   "outputs": [],
   "source": []
  }
 ],
 "metadata": {
  "kernelspec": {
   "display_name": "Python 3",
   "language": "python",
   "name": "python3"
  },
  "language_info": {
   "codemirror_mode": {
    "name": "ipython",
    "version": 3
   },
   "file_extension": ".py",
   "mimetype": "text/x-python",
   "name": "python",
   "nbconvert_exporter": "python",
   "pygments_lexer": "ipython3",
   "version": "3.7.5"
  }
 },
 "nbformat": 4,
 "nbformat_minor": 4
}
