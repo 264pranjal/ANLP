{
 "cells": [
  {
   "cell_type": "markdown",
   "metadata": {},
   "source": [
    "# Week 8 - Quiz Assignment"
   ]
  },
  {
   "cell_type": "markdown",
   "metadata": {},
   "source": [
    "1) What are the different types of translations discussed in the Vauquois diagram?\n",
    "- [ ] Word for word translation\n",
    "- [ ] Syntax-tree based translation\n",
    "- [ ] Semantics based translation\n",
    "- [ ] Phrase-based translation"
   ]
  },
  {
   "cell_type": "markdown",
   "metadata": {},
   "source": [
    "__Answer__: \n",
    "\n",
    "- [x] Word for word translation\n",
    "- [x] Syntax-tree based translation\n",
    "- [x] Semantics based translation"
   ]
  },
  {
   "cell_type": "markdown",
   "metadata": {},
   "source": [
    "****"
   ]
  },
  {
   "cell_type": "markdown",
   "metadata": {},
   "source": [
    "2) Check all that is true about Interlingua\n",
    "- [ ] Increases computational complexity\n",
    "- [ ] Difficult to design such a representation\n",
    "- [ ] meta-language representing knowledge about a source language\n",
    "- [ ] It is a bridge language"
   ]
  },
  {
   "cell_type": "markdown",
   "metadata": {},
   "source": [
    "__Answer__: \n",
    "\n",
    "- [x] Difficult to design such a representation\n",
    "- [x] meta-language representing knowledge about a source language"
   ]
  },
  {
   "cell_type": "markdown",
   "metadata": {},
   "source": [
    "****"
   ]
  },
  {
   "cell_type": "markdown",
   "metadata": {},
   "source": [
    "3) The statement \"The argmax function finds the most likely English sentence $e$ given the Spanish sentence $s$ and maximizes the probability $P(s|e)$\" is\n",
    "- False\n",
    "- True"
   ]
  },
  {
   "cell_type": "markdown",
   "metadata": {},
   "source": [
    "__Answer__: False\n",
    "\n",
    "- Refer [v1] Lecture @ 20:29"
   ]
  },
  {
   "cell_type": "markdown",
   "metadata": {},
   "source": [
    "****"
   ]
  },
  {
   "cell_type": "markdown",
   "metadata": {},
   "source": [
    "4) Bayes rule for translation is $P(e|f) = \\displaystyle \\frac{P(e|f)P(e)}{P(f)}$\n",
    "- True\n",
    "- False"
   ]
  },
  {
   "cell_type": "markdown",
   "metadata": {},
   "source": [
    "__Answer__: False"
   ]
  },
  {
   "cell_type": "markdown",
   "metadata": {},
   "source": [
    "****"
   ]
  },
  {
   "cell_type": "markdown",
   "metadata": {},
   "source": [
    "For questions 6-10, consider the translation which maximizes the probability $P (T L|SL)$ where __TL__ is the target language and __SL__ is the source Language"
   ]
  },
  {
   "cell_type": "markdown",
   "metadata": {},
   "source": [
    "****"
   ]
  },
  {
   "cell_type": "markdown",
   "metadata": {},
   "source": [
    "5) The index of the alignment variable refers to\n",
    "- The location of the word in the source language\n",
    "- The location of the word in the target language\n",
    "- The value of the source language\n",
    "- None of the above"
   ]
  },
  {
   "cell_type": "markdown",
   "metadata": {},
   "source": [
    "__Answer__: The location of the word in the target language\n",
    "\n",
    "\n",
    "    Refer [v1] Lecture 66 @ 13:19"
   ]
  },
  {
   "cell_type": "markdown",
   "metadata": {},
   "source": [
    "****"
   ]
  },
  {
   "cell_type": "markdown",
   "metadata": {},
   "source": [
    "6) The value of the alignment variable refers to the location of the word in the target language\n",
    "- True\n",
    "- False"
   ]
  },
  {
   "cell_type": "markdown",
   "metadata": {},
   "source": [
    "__Answer__: False\n",
    "\n",
    "    Refer [v1] Lecture 66 @ 13:19"
   ]
  },
  {
   "cell_type": "markdown",
   "metadata": {},
   "source": [
    "****"
   ]
  },
  {
   "cell_type": "markdown",
   "metadata": {},
   "source": [
    "7) Consider the alignments $a = \\lbrace 1,3,3,4,7\\rbrace$. How many words are there in the source and the target languages ($\\lbrace \\# of SL words,\\# of TL words\\rbrace$)?\n",
    "__Note: * in the options refers to any number ≥7__\n",
    "- $\\lbrace *,7 \\rbrace$\n",
    "- $\\lbrace 5,* \\rbrace$\n",
    "- $\\lbrace 7,* \\rbrace$\n",
    "- $\\lbrace *,5 \\rbrace$"
   ]
  },
  {
   "cell_type": "markdown",
   "metadata": {},
   "source": [
    "__Answer__: $\\lbrace *,5 \\rbrace$"
   ]
  },
  {
   "cell_type": "markdown",
   "metadata": {},
   "source": [
    "****"
   ]
  },
  {
   "cell_type": "markdown",
   "metadata": {},
   "source": [
    "8) The alignment variables for the source language using the following figure is $\\lbrace 1,2,3,3,3,4,4,5,5 \\rbrace$\n",
    "![5252](images/5252.png)\n",
    "- True\n",
    "- False"
   ]
  },
  {
   "cell_type": "markdown",
   "metadata": {},
   "source": [
    "__Answer__: False"
   ]
  },
  {
   "cell_type": "markdown",
   "metadata": {},
   "source": [
    "****"
   ]
  },
  {
   "cell_type": "markdown",
   "metadata": {},
   "source": [
    "9) Find the alignment variables using the following alignment diagram:\n",
    "![A8-q10](images/A8-q10.png)\n",
    "- $\\lbrace 1,2,4,5,6,7,7\\rbrace$\n",
    "- $\\lbrace 1,3,3,5,6,7,8\\rbrace$\n",
    "- $\\lbrace 1,1,4,5,6,7,8\\rbrace$\n",
    "- $\\lbrace 1,2,4,5,6,7,8\\rbrace$\n",
    "- None of the above"
   ]
  },
  {
   "cell_type": "markdown",
   "metadata": {},
   "source": [
    "__Answer__: None of the above\n",
    "\n",
    "- For word __am__, there is no alignment exist in source language. In such case, it should point to NULL, which is index 0"
   ]
  },
  {
   "cell_type": "markdown",
   "metadata": {},
   "source": [
    "****"
   ]
  },
  {
   "cell_type": "markdown",
   "metadata": {},
   "source": [
    "10) Find the alighment variables for the source language using the following alignment diagram\n",
    "![A8-525](images/A8-525.png)\n",
    "- $\\lbrace 1,2,2,3,4,5,6,7\\rbrace$\n",
    "- $\\lbrace 1,1,2,3,4,5,6,7\\rbrace$\n",
    "- $\\lbrace 1,1,3,2,4,5,6,7\\rbrace$\n",
    "- $\\lbrace 1,2,3,4,5,6,7,8\\rbrace$\n",
    "- None of the above"
   ]
  },
  {
   "cell_type": "markdown",
   "metadata": {},
   "source": [
    "__Answer__: None of the above\n",
    "\n",
    "- Refer Question 5"
   ]
  },
  {
   "cell_type": "markdown",
   "metadata": {},
   "source": [
    "****"
   ]
  },
  {
   "cell_type": "markdown",
   "metadata": {},
   "source": [
    "11) IBM Model 1 is\n",
    "- [ ] Alignment decisions are based on the context words\n",
    "- [ ] Word2Word translation\n",
    "- [ ] Lexical translation\n",
    "- [ ] The length of the target language sentence is fixed"
   ]
  },
  {
   "cell_type": "markdown",
   "metadata": {},
   "source": [
    "__Answer__: \n",
    "\n",
    "- From [v1] Lecture 68\n",
    "  - [x] Word2Word translation\n",
    "  - [x] Lexical translation\n",
    "- <https://www.aclweb.org/anthology/J93-2003>\n",
    "  - _4.1 Model 1_"
   ]
  },
  {
   "cell_type": "markdown",
   "metadata": {},
   "source": [
    "****"
   ]
  },
  {
   "cell_type": "markdown",
   "metadata": {},
   "source": [
    "12) It is possible to have NULL alignment in IBM Model 1\n",
    "- True\n",
    "- False"
   ]
  },
  {
   "cell_type": "markdown",
   "metadata": {},
   "source": [
    "__Answer__: True"
   ]
  },
  {
   "cell_type": "markdown",
   "metadata": {},
   "source": [
    "****"
   ]
  },
  {
   "cell_type": "markdown",
   "metadata": {},
   "source": [
    "13) The total number of possible alignments is given by ${\\left(\\frac{1}{n+1}\\right)}^m$, where $m\\, and\\, n$ are the number of words in the source and the target language respectively\n",
    "- Ture\n",
    "- False"
   ]
  },
  {
   "cell_type": "markdown",
   "metadata": {},
   "source": [
    "__Answer__: False\n",
    "\n",
    "- From [v1] Lecture 68 @ 05:01 and 10:04\n",
    "  - $n$ - number of words in source language/ length of the source language\n",
    "  - $m$ - number of words in target language/ length of the target language"
   ]
  },
  {
   "cell_type": "markdown",
   "metadata": {},
   "source": [
    "****"
   ]
  },
  {
   "cell_type": "code",
   "execution_count": null,
   "metadata": {},
   "outputs": [],
   "source": []
  }
 ],
 "metadata": {
  "kernelspec": {
   "display_name": "Python 3",
   "language": "python",
   "name": "python3"
  },
  "language_info": {
   "codemirror_mode": {
    "name": "ipython",
    "version": 3
   },
   "file_extension": ".py",
   "mimetype": "text/x-python",
   "name": "python",
   "nbconvert_exporter": "python",
   "pygments_lexer": "ipython3",
   "version": "3.7.5"
  }
 },
 "nbformat": 4,
 "nbformat_minor": 4
}
