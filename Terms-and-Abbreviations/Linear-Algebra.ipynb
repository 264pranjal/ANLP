{
 "cells": [
  {
   "cell_type": "markdown",
   "metadata": {},
   "source": [
    "# Linear Algebra"
   ]
  },
  {
   "cell_type": "markdown",
   "metadata": {},
   "source": [
    "## Linear Dependence of Vectors\n",
    "\n",
    "[14] "
   ]
  },
  {
   "cell_type": "markdown",
   "metadata": {},
   "source": []
  },
  {
   "cell_type": "markdown",
   "metadata": {},
   "source": [
    "## Singular Matrix"
   ]
  },
  {
   "cell_type": "markdown",
   "metadata": {},
   "source": [
    "- Matrix, whose rows and columns cannot be factorized"
   ]
  },
  {
   "cell_type": "markdown",
   "metadata": {},
   "source": [
    "## SVD - truncated Singular Value Decomposition"
   ]
  },
  {
   "cell_type": "markdown",
   "metadata": {},
   "source": [
    "- From [28]\n",
    "  - Refer [28] for details SVD over NLP\n",
    "  - It is a __*smoothing*__ technique to smooth the matrix\n",
    "  - Can be used over NLP for\n",
    "    - Latent Meaning\n",
    "    - Noise Reduction\n",
    "    - High-Order Co-occurence\n",
    "    - Sparsity Reduction\n",
    "  - SVD decomposes $X$ into produc to three matrix $U \\Sigma V^T$\n",
    "    - $U$and $V$ are in column orthogonal form (i.e., the columns are orthogonal and have unit length $U^TU = V^TV = I$\n",
    "      - $U$ is called as _left singular matrix_\n",
    "      - $V$ is called as _right singular matrix_\n",
    "    - $\\Sigma$ is a diagonal matrix of singular values"
   ]
  },
  {
   "cell_type": "code",
   "execution_count": null,
   "metadata": {},
   "outputs": [],
   "source": []
  }
 ],
 "metadata": {
  "kernelspec": {
   "display_name": "Python 3",
   "language": "python",
   "name": "python3"
  },
  "language_info": {
   "codemirror_mode": {
    "name": "ipython",
    "version": 3
   },
   "file_extension": ".py",
   "mimetype": "text/x-python",
   "name": "python",
   "nbconvert_exporter": "python",
   "pygments_lexer": "ipython3",
   "version": "3.6.9"
  }
 },
 "nbformat": 4,
 "nbformat_minor": 4
}
