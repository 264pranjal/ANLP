{
 "cells": [
  {
   "cell_type": "markdown",
   "metadata": {},
   "source": [
    "# Linear Algebra"
   ]
  },
  {
   "cell_type": "markdown",
   "metadata": {},
   "source": [
    "## Linear Dependence of Vectors"
   ]
  },
  {
   "cell_type": "markdown",
   "metadata": {},
   "source": [
    "- [14] "
   ]
  },
  {
   "cell_type": "markdown",
   "metadata": {},
   "source": [
    "## Singular Matrix"
   ]
  },
  {
   "cell_type": "markdown",
   "metadata": {},
   "source": [
    "- Matrix, whose rows and columns cannot be factorized"
   ]
  },
  {
   "cell_type": "markdown",
   "metadata": {},
   "source": [
    "## SVD - truncated Singular Value Decomposition"
   ]
  },
  {
   "cell_type": "markdown",
   "metadata": {},
   "source": [
    "- From [28]\n",
    "  - Refer [28] for details SVD over NLP\n",
    "  - It is a __*smoothing*__ technique to smooth the matrix\n",
    "  - Can be used over NLP for\n",
    "    - Latent Meaning\n",
    "    - Noise Reduction\n",
    "    - High-Order Co-occurence\n",
    "    - Sparsity Reduction\n",
    "  - SVD decomposes $X$ into product to three matrix $U \\Sigma V^T$\n",
    "    - $U$and $V$ are in column orthogonal form (i.e., the columns are orthogonal and have unit length $U^TU = V^TV = I$\n",
    "      - $U$ is called as _left singular matrix_\n",
    "      - $V$ is called as _right singular matrix_\n",
    "    - $\\Sigma$ is a diagonal matrix of singular values"
   ]
  },
  {
   "cell_type": "markdown",
   "metadata": {},
   "source": [
    "# Matrix"
   ]
  },
  {
   "cell_type": "markdown",
   "metadata": {},
   "source": [
    "## Outer Product"
   ]
  },
  {
   "cell_type": "markdown",
   "metadata": {},
   "source": [
    "- From <https://en.wikipedia.org/wiki/Outer_product>\n",
    "  - In Linear Algebra, the __outer product__ of two coordinate vectors is a _matrix_.\n",
    "  - The _Outern Product_ contrasts with\n",
    "    - the _dot product_, which takes as input a pair of coordinate vectors and produces a _scalar_\n",
    "    - the _Kronecker product_, which takes as input a pair of matrices and produces a matrix\n",
    "    - and _matrix multiplication_"
   ]
  },
  {
   "cell_type": "markdown",
   "metadata": {},
   "source": [
    "## Functions"
   ]
  },
  {
   "cell_type": "code",
   "execution_count": null,
   "metadata": {},
   "outputs": [],
   "source": []
  }
 ],
 "metadata": {
  "kernelspec": {
   "display_name": "Python 3",
   "language": "python",
   "name": "python3"
  },
  "language_info": {
   "codemirror_mode": {
    "name": "ipython",
    "version": 3
   },
   "file_extension": ".py",
   "mimetype": "text/x-python",
   "name": "python",
   "nbconvert_exporter": "python",
   "pygments_lexer": "ipython3",
   "version": "3.6.9"
  }
 },
 "nbformat": 4,
 "nbformat_minor": 4
}
