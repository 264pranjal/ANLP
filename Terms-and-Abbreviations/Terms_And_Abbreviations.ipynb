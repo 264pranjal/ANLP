{
 "cells": [
  {
   "cell_type": "markdown",
   "metadata": {},
   "source": [
    "# Terms and Abbreivations"
   ]
  },
  {
   "cell_type": "markdown",
   "metadata": {},
   "source": [
    "## Similarity Measures"
   ]
  },
  {
   "cell_type": "markdown",
   "metadata": {},
   "source": [
    "### Proximity Measure"
   ]
  },
  {
   "cell_type": "markdown",
   "metadata": {},
   "source": [
    "- From [1]\n",
    "    - A proximity is a number which indicates how similar or how different two objects are, or are perceived to be, or any measure of this kind"
   ]
  },
  {
   "cell_type": "markdown",
   "metadata": {},
   "source": [
    "### Tanimoto Coefficient"
   ]
  },
  {
   "cell_type": "markdown",
   "metadata": {},
   "source": [
    "- From [2]\n",
    "    - It is a similarity measure[2], can be applied to vectors having binary values as attributes.\n",
    "- From [3]\n",
    "    - Mostly Used in fingerprints[3] based similarity check.\n",
    "    - Especially in Cheminformatics.\n",
    "- From [4]\n",
    "    - Tanimoto Coefficient[4] value between 0 and 1, with 1 corresponding to identical fingerprints, i.e. protein–ligand interaction patterns"
   ]
  },
  {
   "cell_type": "markdown",
   "metadata": {},
   "source": [
    "## LSI - Latent Semantic Indexing"
   ]
  },
  {
   "cell_type": "markdown",
   "metadata": {},
   "source": [
    "- From [5]\n",
    "    - LSI compares how often words appear _together in the same document_ and compares how often those occurences happen in _ALL_ of the documents that Google has in its index\n",
    "- From [6]\n",
    "    - Nice Explanataion about LSI can be found\n",
    "- From [v1] Lec 33\n",
    "  - Using SVD, decomposes the term-document-matrix into three matrices\n",
    "    - $U \\sum V^T$\n",
    "      - $U$ represents _words_, it is called _left singular matrix_\n",
    "        - The rows of $U$ represents the _words_, it is a word vector\n",
    "          - It is not a representation of a term directly\n",
    "          - Instead, it represents the similarity of words (called word embedding)\n",
    "        - It is equal to the size of the terms\n",
    "      - $\\sum$ represetns eigen values, it is a _diagonal_ matrix (also a _singular_ matrix), having elements in _descending_ order\n",
    "      - $V^T$ represents _terms_, it is called _right singular matrix_"
   ]
  },
  {
   "cell_type": "code",
   "execution_count": null,
   "metadata": {},
   "outputs": [],
   "source": []
  }
 ],
 "metadata": {
  "kernelspec": {
   "display_name": "Python 3",
   "language": "python",
   "name": "python3"
  },
  "language_info": {
   "codemirror_mode": {
    "name": "ipython",
    "version": 3
   },
   "file_extension": ".py",
   "mimetype": "text/x-python",
   "name": "python",
   "nbconvert_exporter": "python",
   "pygments_lexer": "ipython3",
   "version": "3.6.9"
  }
 },
 "nbformat": 4,
 "nbformat_minor": 2
}
