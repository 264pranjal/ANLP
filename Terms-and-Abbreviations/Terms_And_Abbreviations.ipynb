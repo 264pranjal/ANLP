{
 "cells": [
  {
   "cell_type": "markdown",
   "metadata": {},
   "source": [
    "# Terms and Abbreivations"
   ]
  },
  {
   "cell_type": "markdown",
   "metadata": {},
   "source": [
    "## Similarity Measures\n",
    "\n",
    "### Proximity Measure\n",
    "\n",
    "A proximity[1] is a number which indicates how similar or how different two objects are, or are perceived to be, or any measure of this kind\n",
    "\n",
    "### Tanimoto Coefficient\n",
    "\n",
    "It is a similarity measure[2], can be applied to vectors having binary values as attributes.\n",
    "\n",
    "Mostly Used in fingerprints[3] based similarity check. Especially in Cheminformatics.\n",
    "\n",
    "Tanimoto Coefficient[4] value between 0 and 1, with 1 corresponding to identical fingerprints, i.e. protein–ligand interaction patterns"
   ]
  },
  {
   "cell_type": "markdown",
   "metadata": {},
   "source": [
    "## LSI - Latent Semantic Indexing\n",
    "\n",
    "LSI [5] compares how often words appear _together in the same document_ and compares how often those occurences happen in _ALL_ of the documents that Google has in its index\n",
    "[6] Nice Explanataion"
   ]
  },
  {
   "cell_type": "code",
   "execution_count": null,
   "metadata": {},
   "outputs": [],
   "source": []
  }
 ],
 "metadata": {
  "kernelspec": {
   "display_name": "Python 3",
   "language": "python",
   "name": "python3"
  },
  "language_info": {
   "codemirror_mode": {
    "name": "ipython",
    "version": 3
   },
   "file_extension": ".py",
   "mimetype": "text/x-python",
   "name": "python",
   "nbconvert_exporter": "python",
   "pygments_lexer": "ipython3",
   "version": "3.6.9"
  }
 },
 "nbformat": 4,
 "nbformat_minor": 2
}
