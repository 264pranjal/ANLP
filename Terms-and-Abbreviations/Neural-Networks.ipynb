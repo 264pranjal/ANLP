{
 "cells": [
  {
   "cell_type": "markdown",
   "metadata": {},
   "source": [
    "# Neural Networks\n",
    "\n",
    "- From NLP Perspective\n",
    "    - Another mechanism to process the corpus and get insights out of them"
   ]
  },
  {
   "cell_type": "markdown",
   "metadata": {},
   "source": [
    "## Why we need Machine Learning (Neural Nework)?"
   ]
  },
  {
   "cell_type": "markdown",
   "metadata": {},
   "source": [
    "- In order to understand the need of NN, we need to understand the limitations of standard algorithms\n",
    "    - __*Standard Algorithm*__: An algorithm is a sequence of instructions to solve a problem\n",
    "        - The steps to solve problems are well defined\n",
    "            - We know _what are the inputs_\n",
    "            - We _know what are the rules to manipulate the input_, and\n",
    "            - We _know what we expect out of program as output_\n",
    "        - Steps are coded in some ordered sequence to transform the input from one form to another\n",
    "        - Rules are unambiguous\n",
    "            - Without specifying rules, we can't solve any problem in _algorithmic fashion_\n",
    "        - Sufficient Knowledge is available to fully solve the problem\n",
    "            - We need to know about the Domain to solve the problem\n",
    "- There are problems whose solutions cannot be formulated using standard rule-based algorithms\n",
    "- Problems that require subtle inputs cannot be solved using standard algorithmic approach - Face Recognition, Speech Recognition, Hand-written character recognition, etc\n",
    "- Finding Examples and using experience gained in similar situations are useful\n",
    "- Examples provide certain underlying patterns\n",
    "- Patterns give the ability to predict some outcome or help in constructing an approximate model\n",
    "- __Learning__ is the key to the ambiguous world"
   ]
  },
  {
   "cell_type": "markdown",
   "metadata": {},
   "source": [
    "## What is Learning"
   ]
  },
  {
   "cell_type": "markdown",
   "metadata": {},
   "source": [
    "- Given the input and output, finding the relationship between Input and Output\n",
    "    - This learned one is called model\n",
    "    - So that, we can give input similar to the one given as exaple in learning and get the output\n",
    "- There are problems, where we can't clearly give exact details of input and the rules to find the output.\n",
    "    - In such case, we want to __*Machine*__ to __*Learn*__ from the given input (examples), to find (estimate) the Output\n",
    "- The system starts looking at the (latent) patterns found in the examples, using which it predicts/estimates the outcome\n",
    "- Always their will be new data, so _learning_ is a continuous process and model should be updated accordingly"
   ]
  },
  {
   "cell_type": "markdown",
   "metadata": {},
   "source": [
    "## How ML used in NLP?"
   ]
  },
  {
   "cell_type": "markdown",
   "metadata": {},
   "source": [
    "- Classification\n",
    "- Word Embedding\n",
    "- Learning a Sentence (This is not possible with Probabilistic Language Model)\n",
    "- How to encode a Paragraph\n",
    "- How to encode a Problem Statement\n",
    "- Translation from language to the other\n",
    "    - Can be done with Statistical Machine Translation models, but NN based models have advatange\n",
    "- Modeling conversations - Chatbot"
   ]
  },
  {
   "cell_type": "markdown",
   "metadata": {},
   "source": [
    "## Perceptron"
   ]
  },
  {
   "cell_type": "markdown",
   "metadata": {},
   "source": [
    "- From [17]\n",
    "    - Perceptron is the basic element of Neural Network\n",
    "    - From where Neural Network started"
   ]
  },
  {
   "cell_type": "markdown",
   "metadata": {},
   "source": [
    "## Gradient Descent\n",
    "\n",
    "- Helps in answering\n",
    "    - How do we iterate to realy get to the solution by descending down /ascending up the slope using Gradient Descendent"
   ]
  },
  {
   "cell_type": "code",
   "execution_count": null,
   "metadata": {},
   "outputs": [],
   "source": []
  }
 ],
 "metadata": {
  "kernelspec": {
   "display_name": "Python 3",
   "language": "python",
   "name": "python3"
  },
  "language_info": {
   "codemirror_mode": {
    "name": "ipython",
    "version": 3
   },
   "file_extension": ".py",
   "mimetype": "text/x-python",
   "name": "python",
   "nbconvert_exporter": "python",
   "pygments_lexer": "ipython3",
   "version": "3.6.9"
  }
 },
 "nbformat": 4,
 "nbformat_minor": 2
}
