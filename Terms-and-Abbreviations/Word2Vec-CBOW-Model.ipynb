{
 "cells": [
  {
   "cell_type": "markdown",
   "metadata": {},
   "source": [
    "# CBOW Model for Multiple Words"
   ]
  },
  {
   "cell_type": "markdown",
   "metadata": {},
   "source": [
    "- From [v1] Lecture 44"
   ]
  },
  {
   "cell_type": "markdown",
   "metadata": {},
   "source": [
    "## Arhictecture"
   ]
  },
  {
   "cell_type": "markdown",
   "metadata": {},
   "source": [
    "![CBOW_Model_For_Multiple_Words](images/CBOW_Model_For_Multiple_Words.jpg)"
   ]
  },
  {
   "cell_type": "markdown",
   "metadata": {},
   "source": [
    "## Input-Hidden Weight Vectors And Loss Function"
   ]
  },
  {
   "cell_type": "markdown",
   "metadata": {},
   "source": [
    "![CBOW_Input__Hidden_Weight_Vectors_And_Loss_Function](images/CBOW_Input__Hidden_Weight_Vectors_And_Loss_Function.jpg)"
   ]
  },
  {
   "cell_type": "markdown",
   "metadata": {},
   "source": [
    "## Update Input and Output Vectors"
   ]
  },
  {
   "cell_type": "markdown",
   "metadata": {},
   "source": [
    "![CBOW_Update_Input_and_Output_Vectors](images/CBOW_Update_Input_and_Output_Vectors.jpg)"
   ]
  },
  {
   "cell_type": "markdown",
   "metadata": {},
   "source": [
    "## What does it Learn"
   ]
  },
  {
   "cell_type": "markdown",
   "metadata": {},
   "source": [
    "- Distributed representation of words as vectors\n",
    "- The learned vectors explicitly encode many linguistic regularities and patterns\n",
    "- The learning should produce a similar word vectors for those words that appeared in similar context. How do we find out?\n",
    "- Comparing the word vectors for similarity? Cosine Similarity?\n",
    "- Has the learned word vectors address stemming? run, running, ran as similar?\n",
    "  - He runs half-marathon\n",
    "  - He ran half-marathon\n",
    "  - He is running half-marathon\n",
    "- How about car, cars, automobile?\n",
    "- How about awesome, fantastic, great?"
   ]
  },
  {
   "cell_type": "code",
   "execution_count": null,
   "metadata": {},
   "outputs": [],
   "source": []
  }
 ],
 "metadata": {
  "kernelspec": {
   "display_name": "Python 3",
   "language": "python",
   "name": "python3"
  },
  "language_info": {
   "codemirror_mode": {
    "name": "ipython",
    "version": 3
   },
   "file_extension": ".py",
   "mimetype": "text/x-python",
   "name": "python",
   "nbconvert_exporter": "python",
   "pygments_lexer": "ipython3",
   "version": "3.6.9"
  }
 },
 "nbformat": 4,
 "nbformat_minor": 4
}
