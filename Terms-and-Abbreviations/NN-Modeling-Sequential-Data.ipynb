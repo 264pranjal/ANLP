{
 "cells": [
  {
   "cell_type": "markdown",
   "metadata": {},
   "source": [
    "# Modeling Sequential Data - NN"
   ]
  },
  {
   "cell_type": "markdown",
   "metadata": {},
   "source": [
    "- From [23]"
   ]
  },
  {
   "cell_type": "markdown",
   "metadata": {},
   "source": [
    "## IID - Independent and Identically Distributed"
   ]
  },
  {
   "cell_type": "markdown",
   "metadata": {},
   "source": [
    "- If we have $n$ data samples, $x^{(1)},x^{(2)},\\ldots,x^{(n)}$, the order in which we use the data for training our machine learning algorithms does not matter\n",
    "  - Example:\n",
    "    - Order of AND, OR Gate trush table as input to Perceptron doesn't matter.\n",
    "      - $[[0,0][0,1],[1,0],[1,1]] [0,0,0,1]$\n",
    "      - $[[1,1],[0,0][0,1],[1,0]] [1,0,0,0]$\n",
    "      - Any order doesn't matter\n",
    "    - Perceptron will learn the parameters"
   ]
  },
  {
   "cell_type": "markdown",
   "metadata": {},
   "source": [
    "## What is Sequential Data"
   ]
  },
  {
   "cell_type": "markdown",
   "metadata": {},
   "source": [
    "- What makes sequential data unique, from other data types, is that elements in a sequence appear in a certain order, and are not independent of each other\n",
    "- The $IID$ assumption is not valid in case of _Sequential Data_\n",
    "- _In Sequential Data_, __*order of data matters*__\n",
    "  - Example:\n",
    "    - __*Time Series Data*__"
   ]
  },
  {
   "cell_type": "markdown",
   "metadata": {},
   "source": [
    "### Representating Sequences"
   ]
  },
  {
   "cell_type": "markdown",
   "metadata": {},
   "source": [
    "- $x^{(1)},x^{(2)},\\ldots,x^{(T)}$\n",
    "- Example, time-series data\n",
    "  - $x^{(t)}$ represnts data belonging to particular time $t$\n",
    "  - ![Sequence_Data_Representation](images/Sequence_Data_Representation.jpg)"
   ]
  },
  {
   "cell_type": "markdown",
   "metadata": {},
   "source": [
    "## Limitations of MLP, CNN"
   ]
  },
  {
   "cell_type": "markdown",
   "metadata": {},
   "source": [
    "- Standard Neural Network models, MLP (Multi Layer Perceptron), CNN (Convolution Neural Network) are __*not capable of handling the order of input samples*__\n",
    "  - Intuitively, these models __*do not have a memory*__ of the past samples\n",
    "  - Data are passed through _Feed Forward_ and _Backpropagation_ steps, and the weights are updated _independent_ of the order in which the sample is passed"
   ]
  },
  {
   "cell_type": "markdown",
   "metadata": {},
   "source": [
    "## Capability of RNN"
   ]
  },
  {
   "cell_type": "markdown",
   "metadata": {},
   "source": [
    "- RNN, are __*designed for modeling sequences*__ and are capable of __*remembering past*__ information and __*processing new events*__ accordingly"
   ]
  },
  {
   "cell_type": "code",
   "execution_count": null,
   "metadata": {},
   "outputs": [],
   "source": []
  }
 ],
 "metadata": {
  "kernelspec": {
   "display_name": "Python 3",
   "language": "python",
   "name": "python3"
  },
  "language_info": {
   "codemirror_mode": {
    "name": "ipython",
    "version": 3
   },
   "file_extension": ".py",
   "mimetype": "text/x-python",
   "name": "python",
   "nbconvert_exporter": "python",
   "pygments_lexer": "ipython3",
   "version": "3.6.9"
  }
 },
 "nbformat": 4,
 "nbformat_minor": 2
}
