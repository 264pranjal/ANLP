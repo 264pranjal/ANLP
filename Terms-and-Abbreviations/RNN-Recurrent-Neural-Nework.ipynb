{
 "cells": [
  {
   "cell_type": "markdown",
   "metadata": {},
   "source": [
    "# Recurrent Neural Network"
   ]
  },
  {
   "cell_type": "markdown",
   "metadata": {},
   "source": [
    "- From [v1] Lecture 51"
   ]
  },
  {
   "cell_type": "markdown",
   "metadata": {},
   "source": [
    "## RNN use cases in NLP"
   ]
  },
  {
   "cell_type": "markdown",
   "metadata": {},
   "source": [
    "- Using Word2Vec, we were able to understand the word and were able to capture the neighbourhood relationship of that word\n",
    "- Once the word is predicted, next we want to\n",
    "  - __*Understand the Sentence*__\n",
    "  - __*Understand the Paragraph*__\n",
    "  - __*Understand the Document*__\n",
    "  - __Para Phrase/ Summarize*__\n",
    "  - __*Translate the paragraph from one language to the other*__"
   ]
  },
  {
   "cell_type": "markdown",
   "metadata": {},
   "source": [
    "# NLP Applications in Action"
   ]
  },
  {
   "cell_type": "markdown",
   "metadata": {},
   "source": [
    "1. Keyboard prediction - What could be the next word\n",
    "  - NLP is used in predicting the next word\n",
    "2. Searching for a topic in a Search Engline (Eg., Google Search Engine) - Lots of options dropping down relating to the typed query\n",
    "  - NLP is behind it in predicting the most possible query matching to the words that you have typed\n",
    "3. Option to complete the sentece - E.g., GMail option to complete the sentence while typing the eMail\n",
    "  - Note that it provides the possible _sentence_, not the words like case 1\n",
    "  \n",
    "- In all of the applications, size of the __*input is not limited by the words*__\n",
    "  - You can have two characters typed, or 3 words typed or 5 words typed, and so on...\n",
    "  - Once you start typing character, it keeps providing the right word for you\n",
    "  - Once you complete the first word, it starts suggesting the next possible word for you\n",
    "  - Once you have second word, it starts suggesting complete sentece for you\n",
    "  \n",
    "- Looking at the application, is it possible solve these problems with?\n",
    "  - Vector Space Model\n",
    "  - Probabilistic Language Model\n",
    "  - ANN"
   ]
  },
  {
   "cell_type": "markdown",
   "metadata": {},
   "source": [
    "![RNN_NLP_Applications_In_Action](images/RNN_NLP_Applications_In_Action.jpg)"
   ]
  },
  {
   "cell_type": "markdown",
   "metadata": {},
   "source": [
    "## ANN for LM"
   ]
  },
  {
   "cell_type": "markdown",
   "metadata": {},
   "source": [
    "![RNN_ANN_For_LM](images/RNN_ANN_For_LM.jpg)"
   ]
  },
  {
   "cell_type": "code",
   "execution_count": null,
   "metadata": {},
   "outputs": [],
   "source": []
  }
 ],
 "metadata": {
  "kernelspec": {
   "display_name": "Python 3",
   "language": "python",
   "name": "python3"
  },
  "language_info": {
   "codemirror_mode": {
    "name": "ipython",
    "version": 3
   },
   "file_extension": ".py",
   "mimetype": "text/x-python",
   "name": "python",
   "nbconvert_exporter": "python",
   "pygments_lexer": "ipython3",
   "version": "3.6.9"
  }
 },
 "nbformat": 4,
 "nbformat_minor": 4
}
