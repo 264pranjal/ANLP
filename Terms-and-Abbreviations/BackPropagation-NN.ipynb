{
 "cells": [
  {
   "cell_type": "markdown",
   "metadata": {},
   "source": [
    "# Backpropagation Neural Network"
   ]
  },
  {
   "cell_type": "markdown",
   "metadata": {},
   "source": [
    "- Refer [19]\n",
    "  - Instructor details follows Chapter 7"
   ]
  },
  {
   "cell_type": "markdown",
   "metadata": {},
   "source": [
    "![Backpropagation_Model] Backpropagation_Model.jpg\n",
    "\n",
    "![Backward_Pass_Adjust_Hidden_Output_Layer_Weights] Backward_Pass_Adjust_Hidden_Output_Layer_Weights.jpg\n",
    "\n",
    "![Backward_Pass_Adjust_Hidden_Output_Layer_Weights_2] Backward_Pass_Adjust_Hidden_Output_Layer_Weights_2.jpg\n",
    "\n",
    "![Backward_Pass_Adjust_Hidden_Output_Layer_Weights_3] Backward_Pass_Adjust_Hidden_Output_Layer_Weights_3.jpg\n",
    "\n",
    "![Backpropagation_Steps.jpg] Backpropagation_Steps.jpg"
   ]
  },
  {
   "cell_type": "markdown",
   "metadata": {},
   "source": [
    "- From [22]\n",
    "  - first adjust last set of weights\n",
    "  - propagate error back to each previous layer\n",
    "  - adjust their weights"
   ]
  },
  {
   "cell_type": "markdown",
   "metadata": {},
   "source": [
    "## Backpropagation Model"
   ]
  },
  {
   "cell_type": "markdown",
   "metadata": {},
   "source": [
    "- The goal of _backpropagation_ is to change the weights so that the $\\text{estimated target} \\approx \\text{target}$, thereby minimizing the error for each neuron and the network as a whole\n",
    "  - $J(\\theta) = \\text{1/2} \\large((t_1 - y_1)^2 + (t_2 - y_2)^2)$\n",
    "    - $J(\\theta)$ is the _cost function_\n",
    "    - We want to adjust weights coming in and going out of hidden layer so that $t - y$ is minimized\n",
    "    - $\\Delta W \\propto - \\cfrac{\\delta J(\\theta)}{\\delta W}$\n",
    "    - ![Backpropagation_Model](images/Backpropagation_Model.jpg)"
   ]
  },
  {
   "cell_type": "code",
   "execution_count": null,
   "metadata": {},
   "outputs": [],
   "source": []
  }
 ],
 "metadata": {
  "kernelspec": {
   "display_name": "Python 3",
   "language": "python",
   "name": "python3"
  },
  "language_info": {
   "codemirror_mode": {
    "name": "ipython",
    "version": 3
   },
   "file_extension": ".py",
   "mimetype": "text/x-python",
   "name": "python",
   "nbconvert_exporter": "python",
   "pygments_lexer": "ipython3",
   "version": "3.6.9"
  }
 },
 "nbformat": 4,
 "nbformat_minor": 2
}
