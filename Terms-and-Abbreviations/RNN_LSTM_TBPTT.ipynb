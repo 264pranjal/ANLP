{
 "cells": [
  {
   "cell_type": "markdown",
   "metadata": {},
   "source": [
    "# Truncated Backpropagation Through Time (Truncated BPTT)"
   ]
  },
  {
   "cell_type": "markdown",
   "metadata": {},
   "source": [
    "-From [v1] Lecture 61"
   ]
  },
  {
   "cell_type": "markdown",
   "metadata": {},
   "source": [
    "- LSTM could solve problems that occurs in long-term dependency\n",
    "  - However, we can't have a very large sequence for reallydoing the backpropagation\n",
    "  - For convenience, what we do is say, instead of having a 500 time slice, we create chunks and do backpropagation on those chunks\n",
    "    - Fro every chunk, you do forward pass and backpropagation and then you go to next chunk, fee the previous chunk input (and its hidden state) to the next chunk, so on..."
   ]
  },
  {
   "cell_type": "markdown",
   "metadata": {},
   "source": [
    "- For applications with long sequences, the input is truncated into manageable fixed-sized segmeents.\n",
    "- This approach is called __*Truncated Backpropagation Through Time (TBPTT)*__\n",
    "  - Example:\n",
    "    - Consider a sequence of 5000 samples. We could split this into 50 sequences of 100 samples each, and the BPTT is computed for each sequence.\n",
    "- This words most of the time, but it is blind to temporal dependencies that may span across wo sequences.\n",
    "- One way to solve this is to have a sentence separator as the conditional BPTT"
   ]
  },
  {
   "cell_type": "markdown",
   "metadata": {},
   "source": [
    "## TBPTT"
   ]
  },
  {
   "cell_type": "markdown",
   "metadata": {},
   "source": [
    "- Below diagram shows how a TBPTT NN looks like\n",
    "  - Given a long sequence, it is chunked into 3 pieces\n",
    "  - Forwad pass and Backpropagation is performed over first chunk\n",
    "  - The result of first chunk is forwarded to next chunk and continued until last chunk"
   ]
  },
  {
   "cell_type": "markdown",
   "metadata": {},
   "source": [
    "![RNN_TBPTT](images/RNN_TBPTT.jpg)"
   ]
  },
  {
   "cell_type": "markdown",
   "metadata": {},
   "source": [
    "## RNN - Kinematics Problem Generation"
   ]
  },
  {
   "cell_type": "markdown",
   "metadata": {},
   "source": [
    "- __This very simple example demonstrates, through which we can see that it is possible to construct a sequence of characters which makes some sense using RNN (LSTM)__"
   ]
  },
  {
   "cell_type": "markdown",
   "metadata": {},
   "source": [
    "- Example of how to really generate an English statement for a given corpus.\n",
    "  - In this example, the corpus:\n",
    "    - Contains around 270+ problems in Kinematics Divided into 100 or 150 characters/ sequences\n",
    "    - Each sequence is trained and learn to precit the next character (alphabet, punctuations, numbers)\n",
    "      - Each sequence is a chunk\n",
    "      - Ecach sequence contains 100 characters"
   ]
  },
  {
   "cell_type": "markdown",
   "metadata": {},
   "source": [
    "\n",
    "- Sample Problem\n",
    "  - A ball is thrown upward from a bridge with an initial velocity of 5.9 m/s. It strikes water after 2s. If g=9.8m/s2, What is the height of the bridge?\n",
    "  - Totally 2000 epochs executed, for 100 epochs, instructor outputed the values. Following shows some of the outputs:\n",
    "    - 5% Training\n",
    "      - What is the hid acceleration of the car pasking the cr ski distance. A croosts from the wate it stop\n",
    "    - 25% training\n",
    "      - What is the distance constant reach and aft when it hits the same ball. A ball is thrown out of a velo\n",
    "    - Recall - After the tranig, if we ask given me the sentence starting with \"determine\":\n",
    "      - \"determine the time it takes a piece of glass to his the ground? A car drives straight off the edge of a cliff\"\n",
    "     Epochs = 1500, Hidden Units = 75, Hidden layer = 2, $\\eta$ = 0.1, Chin Size = 150"
   ]
  },
  {
   "cell_type": "code",
   "execution_count": null,
   "metadata": {},
   "outputs": [],
   "source": []
  }
 ],
 "metadata": {
  "kernelspec": {
   "display_name": "Python 3",
   "language": "python",
   "name": "python3"
  },
  "language_info": {
   "codemirror_mode": {
    "name": "ipython",
    "version": 3
   },
   "file_extension": ".py",
   "mimetype": "text/x-python",
   "name": "python",
   "nbconvert_exporter": "python",
   "pygments_lexer": "ipython3",
   "version": "3.6.9"
  }
 },
 "nbformat": 4,
 "nbformat_minor": 4
}
