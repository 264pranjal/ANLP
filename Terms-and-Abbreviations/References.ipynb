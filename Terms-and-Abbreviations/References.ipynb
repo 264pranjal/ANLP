{
 "cells": [
  {
   "cell_type": "markdown",
   "metadata": {},
   "source": [
    "# References"
   ]
  },
  {
   "cell_type": "markdown",
   "metadata": {},
   "source": [
    "- [1] [Co-occurrence Matrices and their Applications in Information Science: Extending ACA to the Web Environment](https://www.leydesdorff.net/aca/)\n",
    "- [2] [Discussion of Similarity Metrics](http://mines.humanoriented.com/classes/2010/fall/csci568/portfolio_exports/sphilip/tani.html)\n",
    "- [3] [Tanimoto Coefficient and Fingerprint Generation](https://www.surechembl.org/knowledgebase/84207-tanimoto-coefficient-and-fingerprint-generation)\n",
    "- [4] [Life beyond the Tanimoto coefficient: similarity measures for interaction fingerprints](https://jcheminf.biomedcentral.com/articles/10.1186/s13321-018-0302-y)\n",
    "- [5] [Latent Semantic Indexing Video by Robin Good](https://www.youtube.com/watch?v=LOPY1hPcZEM)\n",
    "- [6] [LSA (Latent Semantic Analysis) Video by Minsuk Heo 허민석](https://www.youtube.com/watch?v=OvzJiur55vo)\n",
    "- [7] [Language modeling and probability](https://cs.brown.edu/courses/cs146/assets/files/langmod.pdf)\n",
    "- [8] [Random variables and probability distributions](http://www.stats.gla.ac.uk/steps/glossary/probability_distributions.html)\n",
    "- [9] [SI485i : NLP Language Models](https://www.usna.edu/Users/cs/nchamber/courses/nlp/f13/slides/set3-LMs.pdf)\n",
    "- [10] [Elementary Probability Theory](http://www2.mta.ac.il/~gideon/courses/nlp/slides/chap02_mathematical_foundations.pdf)\n",
    "- [11] [Basic Concepts in Probability and Information Theory](https://www.cs.bgu.ac.il/~elhadad/nlp17/prob.html)\n",
    "- [12] [NLP: Language Models - CS442/542b: Artificial Intelligence II Prof. Olga Veksler](https://www.csd.uwo.ca/courses/CS4442b/L9-NLP-LangModels.pdf)\n",
    "- [13] [SI485i : NLP Language Models](https://www.usna.edu/Users/cs/nchamber/courses/nlp/f13/slides/set3-LMs.pdf)\n",
    "- [14] [Linear Dependence of Vectors](https://stattrek.com/statistics/dictionary.aspx?definition=linear_dependence_of_vectors)\n",
    "- [15] [Zero-probability events](https://www.statlect.com/fundamentals-of-probability/zero-probability-events)\n",
    "- [16] [Language Modeling - Introduction to N-grams by Dan Jurafsky](https://web.stanford.edu/class/cs124/lec/languagemodeling.pdf)\n",
    "    - Refer [v2]"
   ]
  },
  {
   "cell_type": "markdown",
   "metadata": {},
   "source": [
    "## Video"
   ]
  },
  {
   "cell_type": "markdown",
   "metadata": {},
   "source": [
    "- [v1] [Applied Natural Language Processing by Prof. Ramaseshan R](https://nptel.ac.in/courses/106/106/106106211/)\n",
    "- [v2] [Natural Language Processing - Stanford University (FULL Course) By Dan Jurafsky](https://www.youtube.com/playlist?list=PLLssT5z_DsK8HbD2sPcUIDfQ7zmBarMYv)\n",
    "    - <https://web.stanford.edu/class/cs124/>"
   ]
  },
  {
   "cell_type": "markdown",
   "metadata": {},
   "source": [
    "## Markdown Help\n",
    "\n",
    "- http://www.math.mcgill.ca/yyang/regression/RMarkdown/example.html"
   ]
  },
  {
   "cell_type": "markdown",
   "metadata": {},
   "source": [
    "- Markdown Symbols Help\n",
    "    - <https://www.calvin.edu/~rpruim/courses/s341/S17/from-class/MathinRmd.html>\n",
    "    - <https://csrgxtu.github.io/2015/03/20/Writing-Mathematic-Fomulars-in-Markdown/>\n",
    "    - <https://github.com/Jam3/math-as-code/blob/master/README.md>\n",
    "    \n",
    "- Jupyter Notebook Markdown Help\n",
    "    - <https://www.ibm.com/support/knowledgecenter/en/SSGNPV_1.1.3/dsx/markd-jupyter.html>\n",
    "    - <https://nbviewer.jupyter.org/github/ipython/ipython/blob/2.x/examples/Notebook/Display%20System.ipynb#LaTeX>\n",
    "    - <https://www.math.ubc.ca/~pwalls/math-python/jupyter/latex/>\n",
    "    - <https://kapeli.com/cheat_sheets/LaTeX_Math_Symbols.docset/Contents/Resources/Documents/index>"
   ]
  },
  {
   "cell_type": "markdown",
   "metadata": {},
   "source": [
    "# Juperlab Doc"
   ]
  },
  {
   "cell_type": "markdown",
   "metadata": {},
   "source": [
    "- [Getting Started with JupyterLab](http://www.blog.pythonlibrary.org/2019/02/05/getting-started-with-jupyterlab/)"
   ]
  },
  {
   "cell_type": "code",
   "execution_count": null,
   "metadata": {},
   "outputs": [],
   "source": []
  }
 ],
 "metadata": {
  "kernelspec": {
   "display_name": "Python 3",
   "language": "python",
   "name": "python3"
  },
  "language_info": {
   "codemirror_mode": {
    "name": "ipython",
    "version": 3
   },
   "file_extension": ".py",
   "mimetype": "text/x-python",
   "name": "python",
   "nbconvert_exporter": "python",
   "pygments_lexer": "ipython3",
   "version": "3.6.9"
  }
 },
 "nbformat": 4,
 "nbformat_minor": 2
}
