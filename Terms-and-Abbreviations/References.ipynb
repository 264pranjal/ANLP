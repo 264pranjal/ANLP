{
 "cells": [
  {
   "cell_type": "markdown",
   "metadata": {},
   "source": [
    "# References"
   ]
  },
  {
   "cell_type": "markdown",
   "metadata": {},
   "source": [
    "[1] <https://www.leydesdorff.net/aca/>\n",
    "\n",
    "[2] <http://mines.humanoriented.com/classes/2010/fall/csci568/portfolio_exports/sphilip/tani.html>\n",
    "\n",
    "[3] <https://www.surechembl.org/knowledgebase/84207-tanimoto-coefficient-and-fingerprint-generation>\n",
    "\n",
    "[4] <https://jcheminf.biomedcentral.com/articles/10.1186/s13321-018-0302-y>\n",
    "\n",
    "[5] <https://www.youtube.com/watch?v=LOPY1hPcZEM>\n",
    "\n",
    "[6] <https://www.youtube.com/watch?v=OvzJiur55vo>\n",
    "\n",
    "[7] <https://cs.brown.edu/courses/cs146/assets/files/langmod.pdf>\n",
    "\n",
    "[8] http://www.stats.gla.ac.uk/steps/glossary/probability_distributions.html\n",
    "\n",
    "[9] <https://www.usna.edu/Users/cs/nchamber/courses/nlp/f13/slides/set3-LMs.pdf>\n",
    "\n",
    "[10] <http://www2.mta.ac.il/~gideon/courses/nlp/slides/chap02_mathematical_foundations.pdf>\n",
    "\n",
    "[11] <https://www.cs.bgu.ac.il/~elhadad/nlp17/prob.html>\n",
    "\n",
    "[12] <https://www.csd.uwo.ca/courses/CS4442b/L9-NLP-LangModels.pdf>\n",
    "\n",
    "[13] <https://www.usna.edu/Users/cs/nchamber/courses/nlp/f13/slides/set3-LMs.pdf>\n",
    "\n",
    "[14] <https://stattrek.com/statistics/dictionary.aspx?definition=linear_dependence_of_vectors>\n",
    "\n",
    "- Markdown Symbols Help\n",
    "    - <https://www.calvin.edu/~rpruim/courses/s341/S17/from-class/MathinRmd.html>\n",
    "    - <https://csrgxtu.github.io/2015/03/20/Writing-Mathematic-Fomulars-in-Markdown/>\n",
    "    - <https://github.com/Jam3/math-as-code/blob/master/README.md>\n",
    "    \n",
    "- Jupyter Notebook Markdown Help\n",
    "    - <https://www.ibm.com/support/knowledgecenter/en/SSGNPV_1.1.3/dsx/markd-jupyter.html>\n",
    "    - <https://nbviewer.jupyter.org/github/ipython/ipython/blob/2.x/examples/Notebook/Display%20System.ipynb#LaTeX>\n",
    "    - <https://www.math.ubc.ca/~pwalls/math-python/jupyter/latex/>\n",
    "    - <https://kapeli.com/cheat_sheets/LaTeX_Math_Symbols.docset/Contents/Resources/Documents/index>"
   ]
  },
  {
   "cell_type": "code",
   "execution_count": null,
   "metadata": {},
   "outputs": [],
   "source": []
  }
 ],
 "metadata": {
  "kernelspec": {
   "display_name": "Python 3",
   "language": "python",
   "name": "python3"
  },
  "language_info": {
   "codemirror_mode": {
    "name": "ipython",
    "version": 3
   },
   "file_extension": ".py",
   "mimetype": "text/x-python",
   "name": "python",
   "nbconvert_exporter": "python",
   "pygments_lexer": "ipython3",
   "version": "3.6.9"
  }
 },
 "nbformat": 4,
 "nbformat_minor": 2
}
