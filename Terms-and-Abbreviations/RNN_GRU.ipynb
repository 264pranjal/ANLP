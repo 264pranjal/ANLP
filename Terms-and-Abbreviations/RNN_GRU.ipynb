{
 "cells": [
  {
   "cell_type": "markdown",
   "metadata": {},
   "source": [
    "# GRU - Gated Recurrent Unit / Gate Recurrent Network"
   ]
  },
  {
   "cell_type": "markdown",
   "metadata": {},
   "source": [
    "- From [v1] Lecture 62"
   ]
  },
  {
   "cell_type": "markdown",
   "metadata": {},
   "source": [
    "- Another interesting variation of RNN\n",
    "- Has only two gates\n",
    "  - Reset Gate\n",
    "  - update Gate\n",
    "- There is no memory cell that is passing through (unlike LSTM)\n",
    "  - It is making use of the same $\\large h_t$ taht we have computed in the normal RNN (Vanilla RNN), with a slight change in terms of how we want to allow the values to be passed on to the next state"
   ]
  },
  {
   "cell_type": "markdown",
   "metadata": {},
   "source": [
    "![RNN_GRU_Cell](images/RNN_GRU_Cell.jpg)"
   ]
  },
  {
   "cell_type": "markdown",
   "metadata": {},
   "source": [
    "## GRU Forward Pass"
   ]
  },
  {
   "cell_type": "markdown",
   "metadata": {},
   "source": [
    "![RNN_GRU_Forward_Pass_1](images/RNN_GRU_Forward_Pass_1.jpg)\n",
    "![RNN_GRU_Forward_Pass_2](images/RNN_GRU_Forward_Pass_2.jpg)"
   ]
  },
  {
   "cell_type": "code",
   "execution_count": null,
   "metadata": {},
   "outputs": [],
   "source": []
  },
  {
   "cell_type": "code",
   "execution_count": null,
   "metadata": {},
   "outputs": [],
   "source": []
  }
 ],
 "metadata": {
  "kernelspec": {
   "display_name": "Python 3",
   "language": "python",
   "name": "python3"
  },
  "language_info": {
   "codemirror_mode": {
    "name": "ipython",
    "version": 3
   },
   "file_extension": ".py",
   "mimetype": "text/x-python",
   "name": "python",
   "nbconvert_exporter": "python",
   "pygments_lexer": "ipython3",
   "version": "3.6.9"
  }
 },
 "nbformat": 4,
 "nbformat_minor": 4
}
