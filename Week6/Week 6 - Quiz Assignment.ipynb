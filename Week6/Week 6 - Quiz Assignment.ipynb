{
 "cells": [
  {
   "cell_type": "markdown",
   "metadata": {},
   "source": [
    "# Week 6 - Quiz Assignment"
   ]
  },
  {
   "cell_type": "markdown",
   "metadata": {},
   "source": [
    "1) What is the height of the balanced binary tree, if the vocabulary size is 128?\n",
    "- 64\n",
    "- 32\n",
    "- 7\n",
    "- None of the above"
   ]
  },
  {
   "cell_type": "markdown",
   "metadata": {},
   "source": [
    "__Answer__: 7\n",
    "\n",
    "- Path length of a Balanced Tree is $log_2(|V|)$\n",
    "- $log_2(|12|) = 7$"
   ]
  },
  {
   "cell_type": "markdown",
   "metadata": {},
   "source": [
    "***"
   ]
  },
  {
   "cell_type": "markdown",
   "metadata": {},
   "source": [
    "2) What is the probability of the word 6 $w_6$ (marked in red in the tree given below)?\n",
    "\n",
    "![A6Q2](images/A6Q2.png)\n",
    "\n",
    "- 0.14\n",
    "- 0.28\n",
    "- 0.35\n",
    "- None of the above"
   ]
  },
  {
   "cell_type": "markdown",
   "metadata": {},
   "source": [
    "###### __Answer__: 0.35\n",
    "\n",
    "- Given\n",
    "  - $P(\\texttt{right}) + P(\\texttt{left}) = 1$\n",
    "  - $P(\\texttt{n},\\text{right}) = 1 - P(\\texttt{n},\\texttt{left})$\n",
    "  - $P(\\texttt{n},\\text{left}) = 1 - P(\\texttt{n},\\texttt{right})$\n",
    "- Edge Probabilities\n",
    "  - Node 1-3 = 1 - 0.43 = 0.57\n",
    "  - Node 3-6 = 1 - 0.24 = 0.76\n",
    "  - Node 6-w6 - 0.19 = 0.81\n",
    "- Given Node Weight = $P(w_i) = \\prod_{j \\in {N_L}} P(n(w,j))$, where $N_L$ is the list of nodes to reach the word\n",
    "- $w_6$ = 0.57 * 0.76 * 0.81\n",
    "- $w_6$ = 0.350892\n",
    "\n"
   ]
  },
  {
   "cell_type": "markdown",
   "metadata": {},
   "source": [
    "***"
   ]
  },
  {
   "cell_type": "markdown",
   "metadata": {},
   "source": [
    "3) The statement \"Hierarchical Softmax does not provide a unique path to each word in the vocabulary\" is\n",
    "- True\n",
    "- False"
   ]
  },
  {
   "cell_type": "markdown",
   "metadata": {},
   "source": [
    "__Answer__: False"
   ]
  },
  {
   "cell_type": "markdown",
   "metadata": {},
   "source": [
    "***"
   ]
  },
  {
   "cell_type": "markdown",
   "metadata": {},
   "source": [
    "4) In the Hierarchical Softmax Model, the ANN learns the probabilitic decisions at every node. Is the statement true?\n",
    "- True\n",
    "- False"
   ]
  },
  {
   "cell_type": "markdown",
   "metadata": {},
   "source": [
    "__Answer__: True"
   ]
  },
  {
   "cell_type": "markdown",
   "metadata": {},
   "source": [
    "***"
   ]
  },
  {
   "cell_type": "markdown",
   "metadata": {},
   "source": [
    "5) In the Hierarchical Softmax Model, the probability mass of 1 is NOT distributed across the vocabulary and $\\sum_{i}^{}P(w_i) \\neq 1$. Is this statement correct?\n",
    "- True\n",
    "- False"
   ]
  },
  {
   "cell_type": "markdown",
   "metadata": {},
   "source": [
    "__Answer__: False"
   ]
  },
  {
   "cell_type": "markdown",
   "metadata": {},
   "source": [
    "***"
   ]
  },
  {
   "cell_type": "markdown",
   "metadata": {},
   "source": [
    "6) The most frequent words are kept at a shorter distance from the root by __________\n",
    "- Transform Coding\n",
    "- Huffman Coding\n",
    "- Run-Length Coding\n",
    "- Node of the above"
   ]
  },
  {
   "cell_type": "markdown",
   "metadata": {},
   "source": [
    "__Answer__: Huffman Coding"
   ]
  },
  {
   "cell_type": "markdown",
   "metadata": {},
   "source": [
    "***"
   ]
  },
  {
   "cell_type": "markdown",
   "metadata": {},
   "source": [
    "7) Is the statement \"Hierarchical Softmax increases the computation complexity when compared to Softmax\" true?\n",
    "- True\n",
    "- False"
   ]
  },
  {
   "cell_type": "markdown",
   "metadata": {},
   "source": [
    "__Answer__: False"
   ]
  },
  {
   "cell_type": "markdown",
   "metadata": {},
   "source": [
    "***"
   ]
  },
  {
   "cell_type": "markdown",
   "metadata": {},
   "source": [
    "8) The RNN imposes a constraint on the lenght of the input of words. Is the above statement correct?\n",
    "- Yes\n",
    "- No"
   ]
  },
  {
   "cell_type": "markdown",
   "metadata": {},
   "source": [
    "__Answer__: No"
   ]
  },
  {
   "cell_type": "markdown",
   "metadata": {},
   "source": [
    "***"
   ]
  },
  {
   "cell_type": "markdown",
   "metadata": {},
   "source": [
    "9) What is the most important architectural change introduced in the Recurrent Neural Network?\n",
    "- Multiple Hidden Layers\n",
    "- Word Embeddings as Input\n",
    "- Hierarchical Softmax Layer\n",
    "- State Vector\n",
    "- None of the above"
   ]
  },
  {
   "cell_type": "markdown",
   "metadata": {},
   "source": [
    "__Answer__: [State Vector](https://www.cs.toronto.edu/~hinton/csc2535/notes/lec10new.pdf)"
   ]
  },
  {
   "cell_type": "markdown",
   "metadata": {},
   "source": [
    "***"
   ]
  },
  {
   "cell_type": "markdown",
   "metadata": {},
   "source": [
    "10) Using the RNN given in the figure, what is the state of $h_{t}$ at the time $t$?\n",
    "![A10-cs57](images/A10-cs57.png)\n",
    "- $\\large h_{t}$ = $\\large \\text{tanh} \\left(W {x_{t}} \\right)$\n",
    "- $\\large h_{t}$ = $\\large \\text{tanh} \\left(U+W {x_{t}} \\right)$\n",
    "- $\\large h_{t}$ = $\\large \\text{tanh} \\left(Uh_{t-1}W {x_{t}} \\right)$\n",
    "- $\\large h_{t}$ = $\\large \\text{tanh} \\left(Uh_{t-1}+ W {x_{t}} \\right)$"
   ]
  },
  {
   "cell_type": "markdown",
   "metadata": {},
   "source": [
    "__Answer__: [$\\large h_{t}$ = $\\large \\text{tanh} \\left(Uh_{t-1}+ W {x_{t}} \\right)$](https://cse.iitk.ac.in/users/piyush/courses/ml_autumn16/771A_lec24_slides.pdf)"
   ]
  },
  {
   "cell_type": "markdown",
   "metadata": {},
   "source": [
    "***"
   ]
  },
  {
   "cell_type": "code",
   "execution_count": null,
   "metadata": {},
   "outputs": [],
   "source": []
  }
 ],
 "metadata": {
  "kernelspec": {
   "display_name": "Python 3",
   "language": "python",
   "name": "python3"
  },
  "language_info": {
   "codemirror_mode": {
    "name": "ipython",
    "version": 3
   },
   "file_extension": ".py",
   "mimetype": "text/x-python",
   "name": "python",
   "nbconvert_exporter": "python",
   "pygments_lexer": "ipython3",
   "version": "3.6.9"
  }
 },
 "nbformat": 4,
 "nbformat_minor": 4
}
