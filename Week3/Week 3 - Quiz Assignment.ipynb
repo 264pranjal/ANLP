{
 "cells": [
  {
   "cell_type": "markdown",
   "metadata": {},
   "source": [
    "# Week 3 - Quiz Assignment"
   ]
  },
  {
   "cell_type": "markdown",
   "metadata": {},
   "source": [
    "1) Assume that the chain rule is used to compute the joint probability of the sentence $P('I \\; got \\; this \\; one') $. The products of probabilities are represented by\n",
    " $P(got|I)×P(this|I,got)×P(one|I,got,this)$\n",
    " - True\n",
    " - False "
   ]
  },
  {
   "cell_type": "markdown",
   "metadata": {},
   "source": [
    "__Answer__: False"
   ]
  },
  {
   "cell_type": "markdown",
   "metadata": {},
   "source": [
    "It should be  $P(I)×P(got|I)×P(this|I,got)×P(one|I,got,this)$\n",
    "\n",
    "Probability of the sentence $W$:\n",
    "\n",
    "> $P(W) = P(w_1, w_2, ..., w_n)$\n",
    "\n",
    "Chain Rule:\n",
    "\n",
    "> $P(w_1, w_2, ..., w_n) = P(w_1)P(w_2|x_1)...P(w_n|w_1,...w_{n-1})$\n",
    "\n",
    "> $P('I \\; got \\; this \\; one') = P('I', 'got', 'this', 'one'')$\n",
    "\n",
    "> $P('I \\; got \\; this \\; one') = P('I') × P('got' | 'I') × P('this' | 'I \\;  got') × P('one' | 'I \\;  got \\;  this')$\n",
    "\n",
    "Markove Assumption:\n",
    "\n",
    ">  $P('I \\; got \\; this \\; one') = P('I') × P('got' | 'I') × P('this' | 'got') × P('one' | 'this')$"
   ]
  },
  {
   "cell_type": "markdown",
   "metadata": {},
   "source": [
    "***"
   ]
  },
  {
   "cell_type": "markdown",
   "metadata": {},
   "source": [
    "2) Assume that the language model is evaluated as given below\n",
    "\n",
    "$\\phi(W) =  \\sqrt[n]{\\frac{1}{{P(w_1,w_2,\\ldots, w_n)}}}$\n",
    "\n",
    "*__Note:__*  $n$ is the number of words in the sentence.\n",
    "\n",
    "Smoothing will be used if the denominator →0. \n",
    "\n",
    "Is the statement $\"Minimizing  ϕ(W) is same as maximizing the probability P(w_1,w_2,…,w_n) of the sentence\"$ true?\n",
    "- True\n",
    "- False"
   ]
  },
  {
   "cell_type": "markdown",
   "metadata": {},
   "source": [
    "__Answer__: True"
   ]
  },
  {
   "cell_type": "code",
   "execution_count": 10,
   "metadata": {},
   "outputs": [
    {
     "name": "stdout",
     "output_type": "stream",
     "text": [
      "1.2459802354008653\n",
      "1.0846887957840605\n",
      "1.0504095205335795\n",
      "\n",
      "1.105132015639037\n",
      "1.037642609845368\n",
      "1.0226063306698965\n"
     ]
    }
   ],
   "source": [
    "import math\n",
    "\n",
    "def get_nth_root(num,root):\n",
    "   answer = num ** (1/root) \n",
    "   return answer\n",
    "\n",
    "def calc_lm_value(n, p):\n",
    "    '''\n",
    "    Input:\n",
    "        n: number of words in the sentence\n",
    "        p: probability of the sentence\n",
    "    Output:\n",
    "        Returns language model value (???)\n",
    "    '''\n",
    "    return get_nth_root(1/p, n)\n",
    "\n",
    "print(calc_lm_value(5, 0.333))\n",
    "print(calc_lm_value(5, 0.666))\n",
    "print(calc_lm_value(5, 0.782))\n",
    "print()\n",
    "print(calc_lm_value(11, 0.333))\n",
    "print(calc_lm_value(11, 0.666))\n",
    "print(calc_lm_value(11, 0.782))"
   ]
  },
  {
   "cell_type": "markdown",
   "metadata": {},
   "source": [
    "***"
   ]
  },
  {
   "cell_type": "markdown",
   "metadata": {},
   "source": [
    "3) Select one of the following bigram probabilities that represents the sentence\n",
    "\n",
    "    I love dogs\n",
    "    \n",
    "(i)  __&lt;\\S&gt; I love dogs&lt;/S&gt;__ P (I)· P (love | I) · P (dogs | I love)\n",
    "\n",
    "(ii) P (<S>) · P (I | __&lt;S&gt;__) · P (love | __&lt;S&gt;__ I) · P (dogs | I love) · P (__&lt;/S&gt;__ | love dogs)\n",
    "    \n",
    "(iii) P (I | __&lt;S&gt;__) · P (love | I) · P (dogs | love) · P (__&lt;/S&gt;__ | dogs)\n",
    "    \n",
    "    - a\n",
    "    - b\n",
    "    - c\n",
    "    - d"
   ]
  },
  {
   "cell_type": "markdown",
   "metadata": {},
   "source": [
    "__Answer__: "
   ]
  },
  {
   "cell_type": "markdown",
   "metadata": {},
   "source": [
    "***"
   ]
  },
  {
   "cell_type": "markdown",
   "metadata": {},
   "source": [
    "4) The table given below contains some of the bigram frequencies of $(determine,w_i)$ where $w_i$ represents every word in the column\n",
    "\n",
    "| first word |  the  | how | this   | a     | his    |\n",
    "|------------|:-----:|:---:|--------|-------|--------|\n",
    "| determine  | 0.115 | 0   | 0.0125 | 0.006 | 0.0013 |\n",
    "\n",
    "What is the conditional probability of $P(his|determine)$ if the probability of $determine$ as the starting word is 0.6?\n",
    "- 0.0031\n",
    "- 0.0022\n",
    "- 0.0122\n",
    "- 0.0128"
   ]
  },
  {
   "cell_type": "markdown",
   "metadata": {},
   "source": [
    "__Answer__: "
   ]
  },
  {
   "cell_type": "markdown",
   "metadata": {},
   "source": [
    "***"
   ]
  },
  {
   "cell_type": "markdown",
   "metadata": {},
   "source": [
    "5) Assuming that a language model assigns the following conditional probabilities to a 4-word sentence (S)=0.01212. What is the perplexity? \n",
    "\n",
    "    Note: Perplexity is defined in question 2.\n",
    "    \n",
    "- 2.41\n",
    "- 3.14\n",
    "- 4.35\n",
    "- 3.014"
   ]
  },
  {
   "cell_type": "markdown",
   "metadata": {},
   "source": [
    "__Answer__: "
   ]
  },
  {
   "cell_type": "markdown",
   "metadata": {},
   "source": [
    "***"
   ]
  },
  {
   "cell_type": "markdown",
   "metadata": {},
   "source": [
    "6) Consider the following three sentences\n",
    "\n",
    "     Ram read a novel\n",
    "     Raj read a journal\n",
    "     Rai read a book\n",
    "\n",
    "What is the bigram probability of the sentence\n",
    "\n",
    "    Ram read a book?\n",
    "\n",
    "Include start and end symbols in your calculations\n",
    "\n",
    "- 0.06\n",
    "- 0.2222\n",
    "- 0.1111\n",
    "- 0.0556"
   ]
  },
  {
   "cell_type": "markdown",
   "metadata": {},
   "source": [
    "__Answer__: "
   ]
  },
  {
   "cell_type": "markdown",
   "metadata": {},
   "source": [
    "***"
   ]
  },
  {
   "cell_type": "markdown",
   "metadata": {},
   "source": [
    "7) Consider the following three sentences\n",
    "\n",
    "    Ram read a novel\n",
    "    Raj read a journal\n",
    "    Rai read a book\n",
    "\n",
    "What is the trigram probability of the sentence\n",
    "\n",
    "    Ram read a book?\n",
    "\n",
    "Include start and end symbols in your calculations\n",
    "- 0.06\n",
    "- 0.2222\n",
    "- 0.1111\n",
    "- 0.0556\n",
    "- None of the above"
   ]
  },
  {
   "cell_type": "markdown",
   "metadata": {},
   "source": [
    "__Answer__: "
   ]
  },
  {
   "cell_type": "markdown",
   "metadata": {},
   "source": [
    "***"
   ]
  },
  {
   "cell_type": "markdown",
   "metadata": {},
   "source": [
    "8) In Naive Bayes classification, Posterior probability is estimated for predicting the class?\n",
    "- True\n",
    "- False"
   ]
  },
  {
   "cell_type": "markdown",
   "metadata": {},
   "source": [
    "__Answer__: "
   ]
  },
  {
   "cell_type": "markdown",
   "metadata": {},
   "source": [
    "***"
   ]
  },
  {
   "cell_type": "markdown",
   "metadata": {},
   "source": [
    "9) The following table contains the extracted features of emails and their classes (Spam and not Spam). The prior probabilities of the two classes (Spam,not Spam) = (0.57, 0.43)\n",
    "\n",
    "| # of Words/# of capitalized words | Subject in all capital letters | # URLs > 3 | Spam |\n",
    "|-----------------------------------|--------------------------------|------------|------|\n",
    "| No                                | No                             | 0          | No   |\n",
    "| No                                | No                             | 5          | No   |\n",
    "| Yes                               | Yes                            | 4          | Yes  |\n",
    "| Yes                               | No                             | 4          | Yes  |\n",
    "| Yes                               | No                             | 0          | No   |\n",
    "| No                                | Yes                            | 7          | Yes  |\n",
    "| Yes                               | No                             | 0          | No   |\n",
    "\n",
    "- Yes\n",
    "- No"
   ]
  },
  {
   "cell_type": "markdown",
   "metadata": {},
   "source": [
    "__Answer__: "
   ]
  },
  {
   "cell_type": "markdown",
   "metadata": {},
   "source": [
    "***"
   ]
  },
  {
   "cell_type": "code",
   "execution_count": null,
   "metadata": {},
   "outputs": [],
   "source": []
  }
 ],
 "metadata": {
  "kernelspec": {
   "display_name": "Python 3",
   "language": "python",
   "name": "python3"
  },
  "language_info": {
   "codemirror_mode": {
    "name": "ipython",
    "version": 3
   },
   "file_extension": ".py",
   "mimetype": "text/x-python",
   "name": "python",
   "nbconvert_exporter": "python",
   "pygments_lexer": "ipython3",
   "version": "3.6.9"
  }
 },
 "nbformat": 4,
 "nbformat_minor": 2
}
