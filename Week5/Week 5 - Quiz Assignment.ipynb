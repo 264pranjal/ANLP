{
 "cells": [
  {
   "cell_type": "markdown",
   "metadata": {},
   "source": [
    "# Week 5 - Quiz Assignment"
   ]
  },
  {
   "cell_type": "markdown",
   "metadata": {},
   "source": [
    "1) The derivative of $\\sigma(x)$ is\n",
    "\n",
    "- $(1 - \\sigma(x))$\n",
    "- $\\sigma(x)(1 - \\sigma(x))$\n",
    "- $\\displaystyle \\frac{1}{1+e^{-x}}$\n",
    "- None of the above"
   ]
  },
  {
   "cell_type": "markdown",
   "metadata": {},
   "source": [
    "__Answer__: "
   ]
  },
  {
   "cell_type": "markdown",
   "metadata": {},
   "source": [
    "***"
   ]
  },
  {
   "cell_type": "markdown",
   "metadata": {},
   "source": [
    "<u>__ANN Info Use the data given below to answer questions 2-4, 9,10.__</u>"
   ]
  },
  {
   "cell_type": "markdown",
   "metadata": {},
   "source": [
    "There are 4 words in the vocabulary and each one of them is represented by a one-hot-vector.\n",
    "\n",
    "The ANN uses the one-hot-vector as the feature vector in the input layer.\n",
    "\n",
    "There is no bias in this ANN.\n",
    "\n",
    "What is the net activation of the hidden layer correspoding to the 3rd word in the vocabulary, if the weights connecting the input layer and the hidden layer are given as below\n",
    "\n",
    "$\\textbf{W}^T = \\begin{pmatrix}\n",
    "\t\t\t0.1 &0.7&0.3 &0.11\\\\ \n",
    "\t\t\t0.4 &0.3&0.01 &0.5\n",
    "\t\t\\end{pmatrix}$"
   ]
  },
  {
   "cell_type": "markdown",
   "metadata": {},
   "source": [
    "2) The size of the hidden layer is 4\n",
    "\n",
    "- True\n",
    "- False"
   ]
  },
  {
   "cell_type": "markdown",
   "metadata": {},
   "source": [
    "__Answer__: "
   ]
  },
  {
   "cell_type": "markdown",
   "metadata": {},
   "source": [
    "***"
   ]
  },
  {
   "cell_type": "markdown",
   "metadata": {},
   "source": [
    "3) What is the net value ($\\textbf{z}$) of the hidden layer?\n",
    "\n",
    "- [0.11 0.5]\n",
    "- [0.3 0.11]\n",
    "- [0.3 0.01]\n",
    "- [0.7 0.3]"
   ]
  },
  {
   "cell_type": "markdown",
   "metadata": {},
   "source": [
    "__Answer__: "
   ]
  },
  {
   "cell_type": "markdown",
   "metadata": {},
   "source": [
    "***"
   ]
  },
  {
   "cell_type": "markdown",
   "metadata": {},
   "source": [
    "4) What is the value of $\\textbf{h}$ rounded to 2 decimals, if $\\textbf{h} = \\sigma(\\textbf{z})$\n",
    "\n",
    "- [0.57 0.50]\n",
    "- [0.53 0.62]\n",
    "- [0.67 0.57]\n",
    "- [0.53 0.60]"
   ]
  },
  {
   "cell_type": "markdown",
   "metadata": {},
   "source": [
    "__Answer__: "
   ]
  },
  {
   "cell_type": "markdown",
   "metadata": {},
   "source": [
    "***"
   ]
  },
  {
   "cell_type": "markdown",
   "metadata": {},
   "source": [
    "5) In the CBOW ANN Model, context words are predicted\n",
    "\n",
    "- True\n",
    "- False"
   ]
  },
  {
   "cell_type": "markdown",
   "metadata": {},
   "source": [
    "__Answer__: "
   ]
  },
  {
   "cell_type": "markdown",
   "metadata": {},
   "source": [
    "***"
   ]
  },
  {
   "cell_type": "markdown",
   "metadata": {},
   "source": [
    "6) In the Skip-Gram ANN Model, context words are input as feature vectors\n",
    "\n",
    "- True\n",
    "- False"
   ]
  },
  {
   "cell_type": "markdown",
   "metadata": {},
   "source": [
    "__Answer__: "
   ]
  },
  {
   "cell_type": "markdown",
   "metadata": {},
   "source": [
    "***"
   ]
  },
  {
   "cell_type": "markdown",
   "metadata": {},
   "source": [
    "7) In Skip-Gram and CBOW ANN models, the input layer size is equal to the output layer size\n",
    "\n",
    "- True\n",
    "- False"
   ]
  },
  {
   "cell_type": "markdown",
   "metadata": {},
   "source": [
    "__Answer__: "
   ]
  },
  {
   "cell_type": "markdown",
   "metadata": {},
   "source": [
    "***"
   ]
  },
  {
   "cell_type": "markdown",
   "metadata": {},
   "source": [
    "8) In the Word2Vec Model, posterior probability of words in the vocabulary are obtained as the predicted output\n",
    "\n",
    "- True\n",
    "- False"
   ]
  },
  {
   "cell_type": "markdown",
   "metadata": {},
   "source": [
    "__Answer__: "
   ]
  },
  {
   "cell_type": "markdown",
   "metadata": {},
   "source": [
    "***"
   ]
  },
  {
   "cell_type": "markdown",
   "metadata": {},
   "source": [
    "9) What would be size of the output layer for the Word2Vec Model, if the information given above (<u>__ANN Info__</u>) is used in designing the network?\n",
    "\n",
    "- 2\n",
    "- 3\n",
    "- 4\n",
    "- Can be of any size"
   ]
  },
  {
   "cell_type": "markdown",
   "metadata": {},
   "source": [
    "__Answer__: "
   ]
  },
  {
   "cell_type": "markdown",
   "metadata": {},
   "source": [
    "***"
   ]
  },
  {
   "cell_type": "markdown",
   "metadata": {},
   "source": [
    "10) Consider the following information in addition to the information given above (<u>__ANN Info__</u>).\n",
    "\n",
    "$V^{T} = \\begin{pmatrix}\n",
    "\t \t\t\t0.2&0.5\\\\\n",
    "\t \t\t\t0.1&0.003\\\\\n",
    "\t \t\t\t0.01&0.05\\\\\n",
    "\t \t\t\t0.11&0.12\n",
    "\t\t\\end{pmatrix}$\n",
    "\n",
    "Use the value of $h$ obtained in question 4 to compute net output $u$. The value of $u = [0.36\\quad0.07\\quad0.03\\quad0.52]$\n",
    "\n",
    "- True\n",
    "- False"
   ]
  },
  {
   "cell_type": "markdown",
   "metadata": {},
   "source": [
    "__Answer__: "
   ]
  },
  {
   "cell_type": "markdown",
   "metadata": {},
   "source": [
    "***"
   ]
  },
  {
   "cell_type": "markdown",
   "metadata": {},
   "source": []
  }
 ],
 "metadata": {
  "kernelspec": {
   "display_name": "Python 3",
   "language": "python",
   "name": "python3"
  },
  "language_info": {
   "codemirror_mode": {
    "name": "ipython",
    "version": 3
   },
   "file_extension": ".py",
   "mimetype": "text/x-python",
   "name": "python",
   "nbconvert_exporter": "python",
   "pygments_lexer": "ipython3",
   "version": "3.6.9"
  }
 },
 "nbformat": 4,
 "nbformat_minor": 4
}
